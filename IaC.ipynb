{
 "cells": [
  {
   "cell_type": "markdown",
   "metadata": {},
   "source": [
    "# Creating Redshift Cluster using the AWS python SDK \n",
    "## An example of Infrastructure-as-code"
   ]
  },
  {
   "cell_type": "code",
   "execution_count": 1,
   "metadata": {},
   "outputs": [],
   "source": [
    "import pandas as pd\n",
    "import boto3\n",
    "import json\n",
    "import redshift_connector"
   ]
  },
  {
   "cell_type": "markdown",
   "metadata": {
    "toc-hr-collapsed": true
   },
   "source": [
    "# STEP 0: Make sure you have an AWS secret and access key\n",
    "\n",
    "- Create a new IAM user in your AWS account\n",
    "- Give it `AdministratorAccess`, From `Attach existing policies directly` Tab\n",
    "- Take note of the access key and secret \n",
    "- Edit the file `dwh.cfg` in the same folder as this notebook and fill\n",
    "<font color='red'>\n",
    "<BR>\n",
    "[AWS]<BR>\n",
    "KEY= YOUR_AWS_KEY<BR>\n",
    "SECRET= YOUR_AWS_SECRET<BR>\n",
    "<font/>\n"
   ]
  },
  {
   "cell_type": "markdown",
   "metadata": {},
   "source": [
    "# Load DWH Params from a file"
   ]
  },
  {
   "cell_type": "code",
   "execution_count": 2,
   "metadata": {},
   "outputs": [
    {
     "data": {
      "text/html": [
       "<div>\n",
       "<style scoped>\n",
       "    .dataframe tbody tr th:only-of-type {\n",
       "        vertical-align: middle;\n",
       "    }\n",
       "\n",
       "    .dataframe tbody tr th {\n",
       "        vertical-align: top;\n",
       "    }\n",
       "\n",
       "    .dataframe thead th {\n",
       "        text-align: right;\n",
       "    }\n",
       "</style>\n",
       "<table border=\"1\" class=\"dataframe\">\n",
       "  <thead>\n",
       "    <tr style=\"text-align: right;\">\n",
       "      <th></th>\n",
       "      <th>Param</th>\n",
       "      <th>Value</th>\n",
       "    </tr>\n",
       "  </thead>\n",
       "  <tbody>\n",
       "    <tr>\n",
       "      <th>0</th>\n",
       "      <td>DWH_CLUSTER_TYPE</td>\n",
       "      <td>multi-node</td>\n",
       "    </tr>\n",
       "    <tr>\n",
       "      <th>1</th>\n",
       "      <td>DWH_NUM_NODES</td>\n",
       "      <td>4</td>\n",
       "    </tr>\n",
       "    <tr>\n",
       "      <th>2</th>\n",
       "      <td>DWH_NODE_TYPE</td>\n",
       "      <td>dc2.large</td>\n",
       "    </tr>\n",
       "    <tr>\n",
       "      <th>3</th>\n",
       "      <td>DWH_CLUSTER_IDENTIFIER</td>\n",
       "      <td>dwhCluster</td>\n",
       "    </tr>\n",
       "    <tr>\n",
       "      <th>4</th>\n",
       "      <td>DWH_DB</td>\n",
       "      <td>dwh</td>\n",
       "    </tr>\n",
       "    <tr>\n",
       "      <th>5</th>\n",
       "      <td>DWH_DB_USER</td>\n",
       "      <td>dwhuser</td>\n",
       "    </tr>\n",
       "    <tr>\n",
       "      <th>6</th>\n",
       "      <td>DWH_DB_PASSWORD</td>\n",
       "      <td>dX4D7U4L1z</td>\n",
       "    </tr>\n",
       "    <tr>\n",
       "      <th>7</th>\n",
       "      <td>DWH_PORT</td>\n",
       "      <td>5439</td>\n",
       "    </tr>\n",
       "    <tr>\n",
       "      <th>8</th>\n",
       "      <td>DWH_IAM_ROLE_NAME</td>\n",
       "      <td>dwhRole</td>\n",
       "    </tr>\n",
       "  </tbody>\n",
       "</table>\n",
       "</div>"
      ],
      "text/plain": [
       "                    Param       Value\n",
       "0        DWH_CLUSTER_TYPE  multi-node\n",
       "1           DWH_NUM_NODES           4\n",
       "2           DWH_NODE_TYPE   dc2.large\n",
       "3  DWH_CLUSTER_IDENTIFIER  dwhCluster\n",
       "4                  DWH_DB         dwh\n",
       "5             DWH_DB_USER     dwhuser\n",
       "6         DWH_DB_PASSWORD  dX4D7U4L1z\n",
       "7                DWH_PORT        5439\n",
       "8       DWH_IAM_ROLE_NAME     dwhRole"
      ]
     },
     "execution_count": 2,
     "metadata": {},
     "output_type": "execute_result"
    }
   ],
   "source": [
    "import configparser\n",
    "config = configparser.ConfigParser()\n",
    "config.read_file(open('dwh.cfg'))\n",
    "\n",
    "KEY                    = config.get('AWS','KEY')\n",
    "SECRET                 = config.get('AWS','SECRET')\n",
    "\n",
    "DWH_CLUSTER_TYPE       = config.get(\"DWH\",\"DWH_CLUSTER_TYPE\")\n",
    "DWH_NUM_NODES          = config.get(\"DWH\",\"DWH_NUM_NODES\")\n",
    "DWH_NODE_TYPE          = config.get(\"DWH\",\"DWH_NODE_TYPE\")\n",
    "\n",
    "DWH_CLUSTER_IDENTIFIER = config.get(\"DWH\",\"DWH_CLUSTER_IDENTIFIER\")\n",
    "DWH_DB                 = config.get(\"DWH\",\"DWH_DB\")\n",
    "DWH_DB_USER            = config.get(\"DWH\",\"DWH_DB_USER\")\n",
    "DWH_DB_PASSWORD        = config.get(\"DWH\",\"DWH_DB_PASSWORD\")\n",
    "DWH_PORT               = config.get(\"DWH\",\"DWH_PORT\")\n",
    "\n",
    "DWH_IAM_ROLE_NAME      = config.get(\"DWH\", \"DWH_IAM_ROLE_NAME\")\n",
    "\n",
    "(DWH_DB_USER, DWH_DB_PASSWORD, DWH_DB)\n",
    "\n",
    "pd.DataFrame({\"Param\":\n",
    "                  [\"DWH_CLUSTER_TYPE\", \"DWH_NUM_NODES\", \"DWH_NODE_TYPE\", \"DWH_CLUSTER_IDENTIFIER\", \"DWH_DB\", \"DWH_DB_USER\", \"DWH_DB_PASSWORD\", \"DWH_PORT\", \"DWH_IAM_ROLE_NAME\"],\n",
    "              \"Value\":\n",
    "                  [DWH_CLUSTER_TYPE, DWH_NUM_NODES, DWH_NODE_TYPE, DWH_CLUSTER_IDENTIFIER, DWH_DB, DWH_DB_USER, DWH_DB_PASSWORD, DWH_PORT, DWH_IAM_ROLE_NAME]\n",
    "             })"
   ]
  },
  {
   "cell_type": "markdown",
   "metadata": {},
   "source": [
    "## Create clients for EC2, S3, IAM, and Redshift"
   ]
  },
  {
   "cell_type": "code",
   "execution_count": 3,
   "metadata": {},
   "outputs": [],
   "source": [
    "import boto3\n",
    "\n",
    "ec2 = boto3.resource('ec2',\n",
    "                       region_name=\"us-west-2\",\n",
    "                       aws_access_key_id=KEY,\n",
    "                       aws_secret_access_key=SECRET\n",
    "                    )\n",
    "\n",
    "s3 = boto3.resource('s3',\n",
    "                       region_name=\"us-west-2\",\n",
    "                       aws_access_key_id=KEY,\n",
    "                       aws_secret_access_key=SECRET\n",
    "                   )\n",
    "\n",
    "iam = boto3.client('iam',aws_access_key_id=KEY,\n",
    "                     aws_secret_access_key=SECRET,\n",
    "                     region_name='us-west-2'\n",
    "                  )\n",
    "\n",
    "redshift = boto3.client('redshift',\n",
    "                       region_name=\"us-west-2\",\n",
    "                       aws_access_key_id=KEY,\n",
    "                       aws_secret_access_key=SECRET\n",
    "                       )"
   ]
  },
  {
   "cell_type": "markdown",
   "metadata": {},
   "source": [
    "## Check out the sample data sources on S3"
   ]
  },
  {
   "cell_type": "code",
   "execution_count": null,
   "metadata": {},
   "outputs": [],
   "source": [
    "sampleDbBucket =  s3.Bucket(\"udacity-dend\")\n",
    "for obj in sampleDbBucket.objects.filter(Prefix=\"song-data\"):\n",
    "    print(obj)\n",
    "# for obj in sampleDbBucket.objects.all():\n",
    "#     print(obj)\n"
   ]
  },
  {
   "cell_type": "code",
   "execution_count": 20,
   "metadata": {},
   "outputs": [
    {
     "data": {
      "text/html": [
       "<div>\n",
       "<style scoped>\n",
       "    .dataframe tbody tr th:only-of-type {\n",
       "        vertical-align: middle;\n",
       "    }\n",
       "\n",
       "    .dataframe tbody tr th {\n",
       "        vertical-align: top;\n",
       "    }\n",
       "\n",
       "    .dataframe thead th {\n",
       "        text-align: right;\n",
       "    }\n",
       "</style>\n",
       "<table border=\"1\" class=\"dataframe\">\n",
       "  <thead>\n",
       "    <tr style=\"text-align: right;\">\n",
       "      <th></th>\n",
       "      <th>artist</th>\n",
       "      <th>auth</th>\n",
       "      <th>firstName</th>\n",
       "      <th>gender</th>\n",
       "      <th>itemInSession</th>\n",
       "      <th>lastName</th>\n",
       "      <th>length</th>\n",
       "      <th>level</th>\n",
       "      <th>location</th>\n",
       "      <th>method</th>\n",
       "      <th>page</th>\n",
       "      <th>registration</th>\n",
       "      <th>sessionId</th>\n",
       "      <th>song</th>\n",
       "      <th>status</th>\n",
       "      <th>ts</th>\n",
       "      <th>userAgent</th>\n",
       "      <th>userId</th>\n",
       "    </tr>\n",
       "  </thead>\n",
       "  <tbody>\n",
       "    <tr>\n",
       "      <th>0</th>\n",
       "      <td>None</td>\n",
       "      <td>Logged In</td>\n",
       "      <td>Adler</td>\n",
       "      <td>M</td>\n",
       "      <td>0</td>\n",
       "      <td>Barrera</td>\n",
       "      <td>NaN</td>\n",
       "      <td>free</td>\n",
       "      <td>New York-Newark-Jersey City, NY-NJ-PA</td>\n",
       "      <td>GET</td>\n",
       "      <td>Home</td>\n",
       "      <td>1.540836e+12</td>\n",
       "      <td>248</td>\n",
       "      <td>None</td>\n",
       "      <td>200</td>\n",
       "      <td>1541470364796</td>\n",
       "      <td>\"Mozilla/5.0 (Macintosh; Intel Mac OS X 10_9_4) AppleWebKit/537.78.2 (KHTML, like Gecko) Version/7.0.6 Safari/537.78.2\"</td>\n",
       "      <td>100</td>\n",
       "    </tr>\n",
       "    <tr>\n",
       "      <th>1</th>\n",
       "      <td>Gustavo Cerati</td>\n",
       "      <td>Logged In</td>\n",
       "      <td>Adler</td>\n",
       "      <td>M</td>\n",
       "      <td>1</td>\n",
       "      <td>Barrera</td>\n",
       "      <td>249.44281</td>\n",
       "      <td>free</td>\n",
       "      <td>New York-Newark-Jersey City, NY-NJ-PA</td>\n",
       "      <td>PUT</td>\n",
       "      <td>NextSong</td>\n",
       "      <td>1.540836e+12</td>\n",
       "      <td>248</td>\n",
       "      <td>Uno Entre 1000</td>\n",
       "      <td>200</td>\n",
       "      <td>1541470383796</td>\n",
       "      <td>\"Mozilla/5.0 (Macintosh; Intel Mac OS X 10_9_4) AppleWebKit/537.78.2 (KHTML, like Gecko) Version/7.0.6 Safari/537.78.2\"</td>\n",
       "      <td>100</td>\n",
       "    </tr>\n",
       "    <tr>\n",
       "      <th>2</th>\n",
       "      <td>Limp Bizkit</td>\n",
       "      <td>Logged In</td>\n",
       "      <td>Adler</td>\n",
       "      <td>M</td>\n",
       "      <td>2</td>\n",
       "      <td>Barrera</td>\n",
       "      <td>270.49751</td>\n",
       "      <td>free</td>\n",
       "      <td>New York-Newark-Jersey City, NY-NJ-PA</td>\n",
       "      <td>PUT</td>\n",
       "      <td>NextSong</td>\n",
       "      <td>1.540836e+12</td>\n",
       "      <td>248</td>\n",
       "      <td>Behind Blue Eyes</td>\n",
       "      <td>200</td>\n",
       "      <td>1541470632796</td>\n",
       "      <td>\"Mozilla/5.0 (Macintosh; Intel Mac OS X 10_9_4) AppleWebKit/537.78.2 (KHTML, like Gecko) Version/7.0.6 Safari/537.78.2\"</td>\n",
       "      <td>100</td>\n",
       "    </tr>\n",
       "    <tr>\n",
       "      <th>3</th>\n",
       "      <td>None</td>\n",
       "      <td>Logged In</td>\n",
       "      <td>Samuel</td>\n",
       "      <td>M</td>\n",
       "      <td>0</td>\n",
       "      <td>Gonzalez</td>\n",
       "      <td>NaN</td>\n",
       "      <td>free</td>\n",
       "      <td>Houston-The Woodlands-Sugar Land, TX</td>\n",
       "      <td>GET</td>\n",
       "      <td>Home</td>\n",
       "      <td>1.540493e+12</td>\n",
       "      <td>252</td>\n",
       "      <td>None</td>\n",
       "      <td>200</td>\n",
       "      <td>1541473967796</td>\n",
       "      <td>\"Mozilla/5.0 (Macintosh; Intel Mac OS X 10_9_4) AppleWebKit/537.77.4 (KHTML, like Gecko) Version/7.0.5 Safari/537.77.4\"</td>\n",
       "      <td>61</td>\n",
       "    </tr>\n",
       "    <tr>\n",
       "      <th>4</th>\n",
       "      <td>Mikel Erentxun</td>\n",
       "      <td>Logged In</td>\n",
       "      <td>Samuel</td>\n",
       "      <td>M</td>\n",
       "      <td>1</td>\n",
       "      <td>Gonzalez</td>\n",
       "      <td>178.83383</td>\n",
       "      <td>free</td>\n",
       "      <td>Houston-The Woodlands-Sugar Land, TX</td>\n",
       "      <td>PUT</td>\n",
       "      <td>NextSong</td>\n",
       "      <td>1.540493e+12</td>\n",
       "      <td>252</td>\n",
       "      <td>Frases Mudas</td>\n",
       "      <td>200</td>\n",
       "      <td>1541474048796</td>\n",
       "      <td>\"Mozilla/5.0 (Macintosh; Intel Mac OS X 10_9_4) AppleWebKit/537.77.4 (KHTML, like Gecko) Version/7.0.5 Safari/537.77.4\"</td>\n",
       "      <td>61</td>\n",
       "    </tr>\n",
       "  </tbody>\n",
       "</table>\n",
       "</div>"
      ],
      "text/plain": [
       "           artist       auth firstName gender  itemInSession  lastName  \\\n",
       "0  None            Logged In  Adler     M      0              Barrera    \n",
       "1  Gustavo Cerati  Logged In  Adler     M      1              Barrera    \n",
       "2  Limp Bizkit     Logged In  Adler     M      2              Barrera    \n",
       "3  None            Logged In  Samuel    M      0              Gonzalez   \n",
       "4  Mikel Erentxun  Logged In  Samuel    M      1              Gonzalez   \n",
       "\n",
       "      length level                               location method      page  \\\n",
       "0 NaN         free  New York-Newark-Jersey City, NY-NJ-PA  GET    Home       \n",
       "1  249.44281  free  New York-Newark-Jersey City, NY-NJ-PA  PUT    NextSong   \n",
       "2  270.49751  free  New York-Newark-Jersey City, NY-NJ-PA  PUT    NextSong   \n",
       "3 NaN         free  Houston-The Woodlands-Sugar Land, TX   GET    Home       \n",
       "4  178.83383  free  Houston-The Woodlands-Sugar Land, TX   PUT    NextSong   \n",
       "\n",
       "   registration  sessionId              song  status             ts  \\\n",
       "0  1.540836e+12  248        None              200     1541470364796   \n",
       "1  1.540836e+12  248        Uno Entre 1000    200     1541470383796   \n",
       "2  1.540836e+12  248        Behind Blue Eyes  200     1541470632796   \n",
       "3  1.540493e+12  252        None              200     1541473967796   \n",
       "4  1.540493e+12  252        Frases Mudas      200     1541474048796   \n",
       "\n",
       "                                                                                                                 userAgent  \\\n",
       "0  \"Mozilla/5.0 (Macintosh; Intel Mac OS X 10_9_4) AppleWebKit/537.78.2 (KHTML, like Gecko) Version/7.0.6 Safari/537.78.2\"   \n",
       "1  \"Mozilla/5.0 (Macintosh; Intel Mac OS X 10_9_4) AppleWebKit/537.78.2 (KHTML, like Gecko) Version/7.0.6 Safari/537.78.2\"   \n",
       "2  \"Mozilla/5.0 (Macintosh; Intel Mac OS X 10_9_4) AppleWebKit/537.78.2 (KHTML, like Gecko) Version/7.0.6 Safari/537.78.2\"   \n",
       "3  \"Mozilla/5.0 (Macintosh; Intel Mac OS X 10_9_4) AppleWebKit/537.77.4 (KHTML, like Gecko) Version/7.0.5 Safari/537.77.4\"   \n",
       "4  \"Mozilla/5.0 (Macintosh; Intel Mac OS X 10_9_4) AppleWebKit/537.77.4 (KHTML, like Gecko) Version/7.0.5 Safari/537.77.4\"   \n",
       "\n",
       "  userId  \n",
       "0  100    \n",
       "1  100    \n",
       "2  100    \n",
       "3  61     \n",
       "4  61     "
      ]
     },
     "execution_count": 20,
     "metadata": {},
     "output_type": "execute_result"
    }
   ],
   "source": [
    "import json\n",
    "client_inspect = boto3.client('s3')\n",
    "src_bucket = 'udacity-dend'\n",
    "src_object = client_inspect.get_object(Bucket=src_bucket,Key='log_data/2018/11/2018-11-06-events.json')\n",
    "df = pd.read_json(src_object['Body'], lines=True)\n",
    "\n",
    "df.head()"
   ]
  },
  {
   "cell_type": "code",
   "execution_count": 29,
   "metadata": {},
   "outputs": [
    {
     "data": {
      "text/html": [
       "<div>\n",
       "<style scoped>\n",
       "    .dataframe tbody tr th:only-of-type {\n",
       "        vertical-align: middle;\n",
       "    }\n",
       "\n",
       "    .dataframe tbody tr th {\n",
       "        vertical-align: top;\n",
       "    }\n",
       "\n",
       "    .dataframe thead th {\n",
       "        text-align: right;\n",
       "    }\n",
       "</style>\n",
       "<table border=\"1\" class=\"dataframe\">\n",
       "  <thead>\n",
       "    <tr style=\"text-align: right;\">\n",
       "      <th></th>\n",
       "      <th>song_id</th>\n",
       "      <th>num_songs</th>\n",
       "      <th>title</th>\n",
       "      <th>artist_name</th>\n",
       "      <th>artist_latitude</th>\n",
       "      <th>year</th>\n",
       "      <th>duration</th>\n",
       "      <th>artist_id</th>\n",
       "      <th>artist_longitude</th>\n",
       "      <th>artist_location</th>\n",
       "    </tr>\n",
       "  </thead>\n",
       "  <tbody>\n",
       "    <tr>\n",
       "      <th>0</th>\n",
       "      <td>SOWVTAJ12A8C13C6D5</td>\n",
       "      <td>1</td>\n",
       "      <td>Jingle Bells</td>\n",
       "      <td>Jim Reeves</td>\n",
       "      <td>32.20049</td>\n",
       "      <td>1963</td>\n",
       "      <td>108.19873</td>\n",
       "      <td>ARZVTZN1187FB579D4</td>\n",
       "      <td>-94.35887</td>\n",
       "      <td>Galloway, Panola County, TX</td>\n",
       "    </tr>\n",
       "  </tbody>\n",
       "</table>\n",
       "</div>"
      ],
      "text/plain": [
       "              song_id  num_songs         title artist_name  artist_latitude  \\\n",
       "0  SOWVTAJ12A8C13C6D5  1          Jingle Bells  Jim Reeves  32.20049          \n",
       "\n",
       "   year   duration           artist_id  artist_longitude  \\\n",
       "0  1963  108.19873  ARZVTZN1187FB579D4 -94.35887           \n",
       "\n",
       "               artist_location  \n",
       "0  Galloway, Panola County, TX  "
      ]
     },
     "execution_count": 29,
     "metadata": {},
     "output_type": "execute_result"
    }
   ],
   "source": [
    "import json\n",
    "client_inspect = boto3.client('s3')\n",
    "src_bucket = 'udacity-dend'\n",
    "src_object = client_inspect.get_object(Bucket=src_bucket,Key='song-data/B/B/Y/TRBBYFJ128F42A22D4.json')\n",
    "df = pd.read_json(src_object['Body'], lines=True)\n",
    "\n",
    "df.head()"
   ]
  },
  {
   "cell_type": "markdown",
   "metadata": {
    "toc-hr-collapsed": true
   },
   "source": [
    "## STEP 1: IAM ROLE\n",
    "- Create an IAM Role that makes Redshift able to access S3 bucket (ReadOnly)"
   ]
  },
  {
   "cell_type": "code",
   "execution_count": 4,
   "metadata": {},
   "outputs": [
    {
     "name": "stdout",
     "output_type": "stream",
     "text": [
      "1.1 Creating a new IAM Role\n",
      "An error occurred (EntityAlreadyExists) when calling the CreateRole operation: Role with name dwhRole already exists.\n"
     ]
    }
   ],
   "source": [
    "from botocore.exceptions import ClientError\n",
    "\n",
    "#1.1 Create the role, \n",
    "try:\n",
    "    print(\"1.1 Creating a new IAM Role\") \n",
    "    dwhRole = iam.create_role(\n",
    "        Path='/',\n",
    "        RoleName=DWH_IAM_ROLE_NAME,\n",
    "        Description = \"Allows Redshift clusters to call AWS services on your behalf.\",\n",
    "        AssumeRolePolicyDocument=json.dumps(\n",
    "            {'Statement': [{'Action': 'sts:AssumeRole',\n",
    "               'Effect': 'Allow',\n",
    "               'Principal': {'Service': 'redshift.amazonaws.com'}}],\n",
    "             'Version': '2012-10-17'})\n",
    "    )    \n",
    "except Exception as e:\n",
    "    print(e)"
   ]
  },
  {
   "cell_type": "code",
   "execution_count": 5,
   "metadata": {},
   "outputs": [
    {
     "name": "stdout",
     "output_type": "stream",
     "text": [
      "1.2 Attaching Policy\n"
     ]
    },
    {
     "data": {
      "text/plain": [
       "200"
      ]
     },
     "execution_count": 5,
     "metadata": {},
     "output_type": "execute_result"
    }
   ],
   "source": [
    "print(\"1.2 Attaching Policy\")\n",
    "\n",
    "iam.attach_role_policy(RoleName=DWH_IAM_ROLE_NAME,\n",
    "                       PolicyArn=\"arn:aws:iam::aws:policy/AmazonS3ReadOnlyAccess\"\n",
    "                      )['ResponseMetadata']['HTTPStatusCode']\n"
   ]
  },
  {
   "cell_type": "code",
   "execution_count": 6,
   "metadata": {},
   "outputs": [
    {
     "name": "stdout",
     "output_type": "stream",
     "text": [
      "1.3 Get the IAM role ARN\n",
      "arn:aws:iam::697682206292:role/dwhRole\n"
     ]
    }
   ],
   "source": [
    "print(\"1.3 Get the IAM role ARN\")\n",
    "roleArn = iam.get_role(RoleName=DWH_IAM_ROLE_NAME)['Role']['Arn']\n",
    "\n",
    "print(roleArn)"
   ]
  },
  {
   "cell_type": "markdown",
   "metadata": {},
   "source": [
    "## STEP 2:  Redshift Cluster\n",
    "\n",
    "- Create a RedShift Cluster\n",
    "- For complete arguments to `create_cluster`, see [docs](https://boto3.amazonaws.com/v1/documentation/api/latest/reference/services/redshift.html#Redshift.Client.create_cluster)"
   ]
  },
  {
   "cell_type": "code",
   "execution_count": 7,
   "metadata": {},
   "outputs": [],
   "source": [
    "try:\n",
    "    response = redshift.create_cluster(        \n",
    "        #HW\n",
    "        ClusterType=DWH_CLUSTER_TYPE,\n",
    "        NodeType=DWH_NODE_TYPE,\n",
    "        NumberOfNodes=int(DWH_NUM_NODES),\n",
    "\n",
    "        #Identifiers & Credentials\n",
    "        DBName=DWH_DB,\n",
    "        ClusterIdentifier=DWH_CLUSTER_IDENTIFIER,\n",
    "        MasterUsername=DWH_DB_USER,\n",
    "        MasterUserPassword=DWH_DB_PASSWORD,\n",
    "        \n",
    "        #Roles (for s3 access)\n",
    "        IamRoles=[roleArn]  \n",
    "    )\n",
    "except Exception as e:\n",
    "    print(e)"
   ]
  },
  {
   "cell_type": "markdown",
   "metadata": {
    "toc-hr-collapsed": true
   },
   "source": [
    "## 2.1 *Describe* the cluster to see its status\n",
    "- run this block several times until the cluster status becomes `Available`"
   ]
  },
  {
   "cell_type": "code",
   "execution_count": 8,
   "metadata": {},
   "outputs": [
    {
     "data": {
      "text/html": [
       "<div>\n",
       "<style scoped>\n",
       "    .dataframe tbody tr th:only-of-type {\n",
       "        vertical-align: middle;\n",
       "    }\n",
       "\n",
       "    .dataframe tbody tr th {\n",
       "        vertical-align: top;\n",
       "    }\n",
       "\n",
       "    .dataframe thead th {\n",
       "        text-align: right;\n",
       "    }\n",
       "</style>\n",
       "<table border=\"1\" class=\"dataframe\">\n",
       "  <thead>\n",
       "    <tr style=\"text-align: right;\">\n",
       "      <th></th>\n",
       "      <th>Key</th>\n",
       "      <th>Value</th>\n",
       "    </tr>\n",
       "  </thead>\n",
       "  <tbody>\n",
       "    <tr>\n",
       "      <th>0</th>\n",
       "      <td>ClusterIdentifier</td>\n",
       "      <td>dwhcluster</td>\n",
       "    </tr>\n",
       "    <tr>\n",
       "      <th>1</th>\n",
       "      <td>NodeType</td>\n",
       "      <td>dc2.large</td>\n",
       "    </tr>\n",
       "    <tr>\n",
       "      <th>2</th>\n",
       "      <td>ClusterStatus</td>\n",
       "      <td>available</td>\n",
       "    </tr>\n",
       "    <tr>\n",
       "      <th>3</th>\n",
       "      <td>MasterUsername</td>\n",
       "      <td>dwhuser</td>\n",
       "    </tr>\n",
       "    <tr>\n",
       "      <th>4</th>\n",
       "      <td>DBName</td>\n",
       "      <td>dwh</td>\n",
       "    </tr>\n",
       "    <tr>\n",
       "      <th>5</th>\n",
       "      <td>Endpoint</td>\n",
       "      <td>{'Address': 'dwhcluster.cxmu9btas4jt.us-west-2.redshift.amazonaws.com', 'Port': 5439}</td>\n",
       "    </tr>\n",
       "    <tr>\n",
       "      <th>6</th>\n",
       "      <td>VpcId</td>\n",
       "      <td>vpc-6c790b14</td>\n",
       "    </tr>\n",
       "    <tr>\n",
       "      <th>7</th>\n",
       "      <td>NumberOfNodes</td>\n",
       "      <td>4</td>\n",
       "    </tr>\n",
       "  </tbody>\n",
       "</table>\n",
       "</div>"
      ],
      "text/plain": [
       "                 Key  \\\n",
       "0  ClusterIdentifier   \n",
       "1  NodeType            \n",
       "2  ClusterStatus       \n",
       "3  MasterUsername      \n",
       "4  DBName              \n",
       "5  Endpoint            \n",
       "6  VpcId               \n",
       "7  NumberOfNodes       \n",
       "\n",
       "                                                                                   Value  \n",
       "0  dwhcluster                                                                             \n",
       "1  dc2.large                                                                              \n",
       "2  available                                                                              \n",
       "3  dwhuser                                                                                \n",
       "4  dwh                                                                                    \n",
       "5  {'Address': 'dwhcluster.cxmu9btas4jt.us-west-2.redshift.amazonaws.com', 'Port': 5439}  \n",
       "6  vpc-6c790b14                                                                           \n",
       "7  4                                                                                      "
      ]
     },
     "execution_count": 8,
     "metadata": {},
     "output_type": "execute_result"
    }
   ],
   "source": [
    "def prettyRedshiftProps(props):\n",
    "    pd.set_option('display.max_colwidth', 1)\n",
    "    keysToShow = [\"ClusterIdentifier\", \"NodeType\", \"ClusterStatus\", \"MasterUsername\", \"DBName\", \"Endpoint\", \"NumberOfNodes\", 'VpcId']\n",
    "    x = [(k, v) for k,v in props.items() if k in keysToShow]\n",
    "    return pd.DataFrame(data=x, columns=[\"Key\", \"Value\"])\n",
    "\n",
    "myClusterProps = redshift.describe_clusters(ClusterIdentifier=DWH_CLUSTER_IDENTIFIER)['Clusters'][0]\n",
    "prettyRedshiftProps(myClusterProps)"
   ]
  },
  {
   "cell_type": "markdown",
   "metadata": {
    "toc-hr-collapsed": true
   },
   "source": [
    "<h2> 2.2 Take note of the cluster <font color='red'> endpoint and role ARN </font> </h2>"
   ]
  },
  {
   "cell_type": "markdown",
   "metadata": {},
   "source": [
    "<font color='red'>DO NOT RUN THIS unless the cluster status becomes \"Available\" </font>"
   ]
  },
  {
   "cell_type": "code",
   "execution_count": 10,
   "metadata": {},
   "outputs": [
    {
     "name": "stdout",
     "output_type": "stream",
     "text": [
      "DWH_ENDPOINT ::  dwhcluster.cxmu9btas4jt.us-west-2.redshift.amazonaws.com\n",
      "DWH_ROLE_ARN ::  arn:aws:iam::697682206292:role/dwhRole\n"
     ]
    }
   ],
   "source": [
    "DWH_ENDPOINT = myClusterProps['Endpoint']['Address']\n",
    "DWH_ROLE_ARN = myClusterProps['IamRoles'][0]['IamRoleArn']\n",
    "print(\"DWH_ENDPOINT :: \", DWH_ENDPOINT)\n",
    "print(\"DWH_ROLE_ARN :: \", DWH_ROLE_ARN)"
   ]
  },
  {
   "cell_type": "markdown",
   "metadata": {},
   "source": [
    "## STEP 3: Open an incoming  TCP port to access the cluster ednpoint"
   ]
  },
  {
   "cell_type": "code",
   "execution_count": 11,
   "metadata": {},
   "outputs": [
    {
     "name": "stdout",
     "output_type": "stream",
     "text": [
      "ec2.SecurityGroup(id='sg-6db52338')\n",
      "An error occurred (InvalidPermission.Duplicate) when calling the AuthorizeSecurityGroupIngress operation: the specified rule \"peer: 0.0.0.0/0, TCP, from port: 5439, to port: 5439, ALLOW\" already exists\n"
     ]
    }
   ],
   "source": [
    "try:\n",
    "    vpc = ec2.Vpc(id=myClusterProps['VpcId'])\n",
    "    defaultSg = list(vpc.security_groups.all())[0]\n",
    "    print(defaultSg)\n",
    "    defaultSg.authorize_ingress(\n",
    "        GroupName=defaultSg.group_name,\n",
    "        CidrIp='0.0.0.0/0',\n",
    "        IpProtocol='TCP',\n",
    "        FromPort=int(DWH_PORT),\n",
    "        ToPort=int(DWH_PORT)\n",
    "    )\n",
    "except Exception as e:\n",
    "    print(e)"
   ]
  },
  {
   "cell_type": "markdown",
   "metadata": {},
   "source": [
    "## STEP 4: Make sure you can connect to the clusterConnect to the cluster"
   ]
  },
  {
   "cell_type": "code",
   "execution_count": 14,
   "metadata": {},
   "outputs": [],
   "source": [
    "conn = redshift_connector.connect(\n",
    "     host=DWH_ENDPOINT,\n",
    "     database=DWH_DB,\n",
    "     port=DWH_PORT,\n",
    "     user=DWH_DB_USER,\n",
    "     password=DWH_DB_PASSWORD\n",
    "  )"
   ]
  },
  {
   "cell_type": "markdown",
   "metadata": {},
   "source": [
    "## STEP 4: Sample Queries"
   ]
  },
  {
   "cell_type": "code",
   "execution_count": 15,
   "metadata": {},
   "outputs": [],
   "source": [
    "cursor = conn.cursor()"
   ]
  },
  {
   "cell_type": "code",
   "execution_count": 16,
   "metadata": {},
   "outputs": [
    {
     "data": {
      "text/plain": [
       "<redshift_connector.cursor.Cursor at 0x1c759150250>"
      ]
     },
     "execution_count": 16,
     "metadata": {},
     "output_type": "execute_result"
    }
   ],
   "source": [
    "cursor.execute(\"SELECT * FROM PG_TABLE_DEF;\")"
   ]
  },
  {
   "cell_type": "code",
   "execution_count": 19,
   "metadata": {},
   "outputs": [
    {
     "name": "stdout",
     "output_type": "stream",
     "text": [
      "([8056],)\n"
     ]
    }
   ],
   "source": [
    "cursor.execute(\"SELECT COUNT(*) from public.staging_events\")\n",
    "result: tuple = cursor.fetchall()\n",
    "print(result)"
   ]
  },
  {
   "cell_type": "code",
   "execution_count": 20,
   "metadata": {},
   "outputs": [
    {
     "name": "stdout",
     "output_type": "stream",
     "text": [
      "([14896],)\n"
     ]
    }
   ],
   "source": [
    "cursor.execute(\"SELECT COUNT(*) from public.staging_songs\")\n",
    "result: tuple = cursor.fetchall()\n",
    "print(result)"
   ]
  },
  {
   "cell_type": "code",
   "execution_count": 21,
   "metadata": {},
   "outputs": [
    {
     "name": "stdout",
     "output_type": "stream",
     "text": [
      "([104],)\n"
     ]
    }
   ],
   "source": [
    "cursor.execute(\"SELECT COUNT(*) from public.users\")\n",
    "result: tuple = cursor.fetchall()\n",
    "print(result)"
   ]
  },
  {
   "cell_type": "code",
   "execution_count": 22,
   "metadata": {},
   "outputs": [
    {
     "name": "stdout",
     "output_type": "stream",
     "text": [
      "([14896],)\n"
     ]
    }
   ],
   "source": [
    "cursor.execute(\"SELECT COUNT(*) from public.songs\")\n",
    "result: tuple = cursor.fetchall()\n",
    "print(result)"
   ]
  },
  {
   "cell_type": "code",
   "execution_count": 23,
   "metadata": {},
   "outputs": [
    {
     "name": "stdout",
     "output_type": "stream",
     "text": [
      "([1144],)\n"
     ]
    }
   ],
   "source": [
    "cursor.execute(\"SELECT COUNT(*) from public.songplays\")\n",
    "result: tuple = cursor.fetchall()\n",
    "print(result)"
   ]
  },
  {
   "cell_type": "code",
   "execution_count": 24,
   "metadata": {},
   "outputs": [
    {
     "name": "stdout",
     "output_type": "stream",
     "text": [
      "([6813],)\n"
     ]
    }
   ],
   "source": [
    "cursor.execute(\"SELECT COUNT(*) from public.time\")\n",
    "result: tuple = cursor.fetchall()\n",
    "print(result)"
   ]
  },
  {
   "cell_type": "code",
   "execution_count": 25,
   "metadata": {},
   "outputs": [
    {
     "name": "stdout",
     "output_type": "stream",
     "text": [
      "([10025],)\n"
     ]
    }
   ],
   "source": [
    "cursor.execute(\"SELECT COUNT(*) from public.artists\")\n",
    "result: tuple = cursor.fetchall()\n",
    "print(result)"
   ]
  },
  {
   "cell_type": "code",
   "execution_count": 26,
   "metadata": {},
   "outputs": [
    {
     "name": "stdout",
     "output_type": "stream",
     "text": [
      "(['SOBONKR12A58A7A7E0', \"You're The One\", 37], ['SOTTKFE12A6D4F9AFE', 'Secrets', 17], ['SOZZHYJ12A8C140F50', 'Home', 13], ['SOBEUMD12AB018A9BC', 'Home', 13], ['SORKXUL12AB01821DA', 'Home', 13], ['SOWIIJD12A6D4FCAF0', 'Home', 13], ['SOUNZHU12A8AE47481', \"I CAN'T GET STARTED\", 9], ['SOHTKMO12AB01843B0', 'Catch You Baby (Steve Pitron & Max Sanna Radio Edit)', 9], ['SOULTKQ12AB018A183', \"Nothin' On You [feat. Bruno Mars] (Album Version)\", 8], ['SOTSEFJ12AB0187FC3', 'Stronger', 7], ['SONENBB12A6D4FBE9F', 'Float On', 7], ['SOAEILM12A8C13AC54', 'Hello', 6], ['SOLZOBD12AB0185720', \"Hey Daddy (Daddy's Home)\", 6], ['SOZKYCJ12A6D4F480A', 'Thank You', 5], ['SOOUSHT12AC3DF485E', 'Thank You', 5], ['SOLFKYA12A8C13B082', 'Smile', 5], ['SOTNHIP12AB0183131', 'Make Her Say', 5], ['SOKLLZS12A8C13F208', 'Smile', 5], ['SOBHAQP12AB018B4D9', 'Just Dance', 5], ['SOJRCDU12AB0189D27', 'Smile', 5], ['SOARUPP12AB01842E0', 'Up Up & Away', 5], ['SOOCUWU12A67AD81AE', 'Smile', 5], ['SONQEYS12AF72AABC9', 'Mr. Jones', 4], ['SOVYHIL12A6D4FA14F', 'Forever', 4], ['SOGKLRH12AB0187E8A', 'Wild World', 4], ['SOIDZYO12869A05669', 'Gone', 4], ['SOIZLKI12A6D4F7B61', 'Supermassive Black Hole (Album Version)', 4], ['SOYEKUR12AAF3B5274', 'Apologize', 4], ['SOEOLOO12AB018BB4E', 'Bodies', 4], ['SODXKJL12A58A7E6E9', 'You Belong With Me', 4], ['SOXFFPU12A8C134F17', 'Never Say Never', 4], ['SOIOESO12A6D4F621D', 'Unwell (Album Version)', 4], ['SOCHRXB12A8AE48069', \"Let's Get It Started\", 3], ['SODXLWX12AC468D3B1', 'How Long', 3], ['SODKJWI12A8151BD74', 'From The Ritz To The Rubble', 3], ['SOKROXI12A8C13BBA3', 'Hold On', 3], ['SOIUUIY12A6D4FBC3A', 'Hold On', 3], ['SOTIOOL12A8C133FF8', 'Hold On', 3], ['SOXDCJM12AB0183422', 'I Miss You', 3], ['SOGNKOW12A8AE47643', 'Hallelujah', 3], ['SOFNHTC12A8C13BBC9', 'Intro', 3], ['SOSMXVH12A58A7CA6C', 'Pienso En Ti', 3], ['SOFQARF12AB01872C9', 'Intro', 3], ['SOOWKHL12A6701E16A', 'Love Me', 3], ['SOOSGPT12AB0186833', 'Intro', 3], ['SOLAQIZ12A8C13743E', 'Breathe', 3], ['SOVFUCQ12AB0185388', 'Intro', 3], ['SOGWDUX12A8C13989F', 'Intro', 3], ['SOSEOOD12AAA8C4AE9', 'Breathe', 3], ['SOJCRCO12A6D4F89BA', 'Intro', 3], ['SOPPOFN12AB01872DA', 'Human', 3], ['SOKHSHK12AB017BBDC', 'Intro', 3], ['SONHWUN12AC468C014', 'Rianna', 3], ['SOSORIP12A8AE47E76', 'Intro', 3], ['SOYGIBP12A67020AF7', 'Magic', 3], ['SOVAHFD12A8C13CA8E', 'Intro', 3], ['SOHHMFQ12A58A7694C', 'Do You Remember', 3], ['SOJWFXM12A3F1EBE8B', 'Human', 3], ['SOYMDKW12A6D4F76A0', 'Intro', 3], ['SOAHOSV12AB0185DA4', 'Intro', 3], ['SOSWZZV12A81C22DF1', 'Rain', 3], ['SOYMRBS12A8C1316FC', 'Intro', 3], ['SOBKIGU12AB018B95C', 'Intro', 3], ['SOIXAJN12AB0183EE3', 'When I Grow Up', 3], ['SOMPURW12A6D4F6E50', 'Tenderly', 3], ['SOTNPUV12A8C13809D', 'Intro', 3], ['SOGDBUF12A8C140FAA', 'Intro', 3], ['SOKFQVN12A6D4F80AC', 'Magic', 3], ['SOTWIMM12A8C13917F', 'Intro', 3], ['SOSQXOJ12A8AE46E3A', 'Intro', 3], ['SOVOZSC12A8C144E73', 'Magic', 3], ['SOZGUKP12AB018A2E2', 'Intro', 3], ['SOXVUOV12AC90758D7', 'Intro', 3], ['SOYGXLI12AB0183CA6', 'Already Gone', 3], ['SOBCTXP12AB01877F5', 'Animal', 3], ['SOACGMN12A8C13AD65', 'Closer', 3], ['SOHNLUR12AB018950C', 'Intro', 3], ['SONRUQZ12AB018A5BE', 'Restless', 3], ['SOEXBEQ12AB017EF48', 'Rain', 3], ['SOFKTPP12A8C1385CA', 'Hold On', 3], ['SOUZYTS12A58A7975E', 'Hold On', 3], ['SONCWGI12A8C1393C4', 'Rain', 3], ['SOOLVIB12A8C1408E2', 'Brother', 3], ['SOBIJGQ12A8C131C8F', 'Resistance', 3], ['SOYTFSY12A6D4FD84E', 'Born To Be Wild', 3], ['SODSOLK12AB018BB66', 'Intro', 3], ['SOSLXKE12AB018900C', 'Breathe', 3], ['SOFEAMD12AB017F1C2', 'Intro', 3], ['SOWEUOO12A6D4F6D0C', 'Given Up (Album Version)', 3], ['SOROLCY12AB0182652', 'Intro', 3], ['SOQFYBD12AB0182188', 'Intro', 3], ['SOQWWWS12AB018AEB4', 'Closer', 3], ['SOPDLYP12AB0189976', 'Restless', 3], ['SOIGLWB12AB0182905', 'I Miss You', 3], ['SOHHVXI12A6D4F69E3', 'Intro', 3], ['SOQDMXT12A6D4F8255', 'Fade To Black', 3], ['SOBHMBE12AB0188C09', 'Call Me', 3], ['SOSLMYF12A8C1447AF', 'Magic', 3], ['SONTFNG12A8C13FF69', \"If I Ain't Got You\", 3], ['SOKJUZQ12AB0185E37', 'When I Grow Up', 3], ['SOJMLXA12A8C12FB20', 'Brother', 3], ['SOBYGNT12A8C1378FB', 'Love Is All Around', 2], ['SOSZDZY12A6310F1EA', 'Simple', 2], ['SOPXSOJ12A81C209E2', 'Suicide', 2], ['SOIYPLX12AB0189CA2', 'Holiday', 2], ['SOBGGZP12AB017BB42', 'Visions', 2], ['SOEMXXF12A6D4F932C', 'Waterfall (Spirit Of The Rainforest Album Version)', 2], ['SODLAPJ12A8C142002', 'Mia', 2], ['SOUCIWS12A8C13A30D', 'Coma', 2], ['SOHQOTH12AB0186824', 'Heartbreaker', 2], ['SOWGZFG12A8151AF41', 'Monsoon', 2], ['SOHTQAS12A6701C7BA', 'Crazy', 2], ['SOVYJCJ12AB017FA24', 'Gravity', 2], ['SORMQGY12A8C135E63', 'Crazy', 2], ['SOXQYSC12A6310E908', 'Bitter Sweet Symphony', 2], ['SONZWDK12A6701F62B', 'You Get What You Give', 2], ['SOWOYZQ12A67AE1111', 'Fantasy', 2], ['SOAYOFO12AF72A4B88', 'Play', 2], ['SOUPKAB12AB0185DF9', 'Crazy', 2], ['SOTNWCI12AAF3B2028', 'The Way I Loved You', 2], ['SOYUKXG12A58A77837', 'Crazy', 2], ['SOYRYCT12AF72ABEF3', 'Revolution', 2], ['SOUIBGT12A6D4F99C1', 'Glad All Over', 2], ['SOBMFTU12AB0187706', 'Outro', 2], ['SOHYHOI12AB017C456', 'Someday', 2], ['SODYLAQ12AB0181CDC', 'Outro', 2], ['SOOXYTR12A8C1426D5', 'Revolution', 2], ['SOXFCHX12A6D4F8656', 'Alright', 2], ['SOOWGFL12A6D4F81BD', 'This Is Your Life', 2], ['SOVBPVD12A8C144C18', 'Sometimes', 2], ['SOSMTXQ12A6D4F721D', 'If I Were A Carpenter', 2], ['SOQIFSR12A58A7C69B', 'Love', 2], ['SOUFNBN12A6D4F635C', 'I Need You', 2], ['SOQLCCD12A8C1333F3', 'Ready Or Not', 2], ['SOGNWRF12A8C13BA7E', 'War', 2], ['SOUHMDV12AB01846D4', 'Gravity', 2], ['SOODHEW12A6D4F8E96', 'Far Away (Album Version)', 2], ['SOOVUZR12A8AE46B5B', 'My Love', 2], ['SOTSDTV12A8C138C6F', 'Crossfire', 2], ['SOVMJTE12AB018A075', 'Fireworks', 2], ['SOJRMKC12A8C13AD5E', 'Sick', 2], ['SOKUCXB12A6D4FAC0C', 'Caught Up In You', 2], ['SOQZOZZ12A6D4F8134', 'Lies', 2], ['SOTWGNJ12AC468EE38', 'Outro', 2], ['SOBSSWQ12A58A7BCA9', 'Overture', 2], ['SOOBNVH12A6310F1DF', 'Life', 2], ['SODDZJF12AC468C166', 'Broken', 2], ['SOSKLST12AB0187FE2', 'Spotlight', 2], ['SOKGKRW12A8C1451D0', 'Soldier', 2], ['SORDPMD12A8C13941B', 'Broken', 2], ['SOVHEJP12AB0186920', 'Trouble', 2], ['SOSZTNS12A8C13CE1E', 'Untitled', 2], ['SOBJDDA12A6BD53159', 'Long Black Road', 2], ['SOPPSDA12AF72A3D97', 'VooDoo', 2], ['SOYDHXP12AB01849D4', 'Good Life', 2], ['SOEQTFH12A8C1324C5', \"It's My Life\", 2], ['SOYETRS12AB018A8F2', 'Beautiful', 2], ['SOBHBKJ12A6D4F9D00', 'Love', 2], ['SOCOWCL12A8C1415F7', 'Beautiful', 2], ['SONIKJJ12A67ADB9D6', 'My Love', 2], ['SOSPKGJ12AB01824B3', 'Love', 2], ['SOUGNPD12AB01874F2', 'Silence', 2], ['SOPANEB12A8C13E81E', 'God Smack', 2], ['SOFNUXW12AB01870A0', 'Wake Up', 2], ['SONKSNV12A58A7F654', 'Speed Of Sound', 2], ['SOFLDWC12AC9E1569A', 'Outro', 2], ['SOQGIEO12AB018AF4C', 'Wake Up', 2], ['SOJHUQN12A6D4F8EDE', 'Emergency (Album Version)', 2], ['SONDBYI12A6310D81C', 'Outro', 2], ['SOFVOQL12A6D4F7456', 'The Boy With The Thorn In His Side', 2], ['SOWEFTO12A3F1EB976', 'Girlfriend In A Coma', 2], ['SOMEFTJ12A6D4F8CAC', 'No Puedo Evitar (Pensar En Ti)', 2], ['SONKUEA12AC468F6C3', 'Tomorrow', 2], ['SOXOURR12AB0186379', 'Awake', 2], ['SOXGZAI12A6D4F4199', 'Tomorrow', 2], ['SOOVIQG12A6D4FAC8F', 'Trouble', 2], ['SOLWDED12A8C13B82F', 'Lady', 2], ['SOZFUHO12AC95F070B', 'Torches', 2], ['SONSVFF12A8C13645C', 'Broken', 2], ['SOVIEHU12A81C234C3', 'Missing You', 2], ['SOOKILA12AB01823E7', 'Lies', 2], ['SOAIUDT12AF729F399', 'Lady', 2], ['SOHXVLC12A67ADF74F', 'Life', 2], ['SOCNCGL127D9786D66', 'Lovefool', 2], ['SOUKYBX12AF72AB35E', 'Life', 2], ['SOELSDM12A8C13CB4E', 'Broken', 2], ['SORWILM12AB018CDDC', 'Peep Show', 2], ['SOJPPZP12A6D4FB736', 'War', 2], ['SORTUVJ12A6701D988', 'Girls', 2], ['SODRZRU12A67ADEA50', 'Love', 2], ['SOCGOZK12A8151BD5D', 'Fake Tales Of San Francisco', 2], ['SOTCOTZ12A8C136BCB', 'Elevator', 2], ['SOEWOEU12A8C138FB1', 'Careless Whisper', 2], ['SOXABVV12A58A7996C', 'Someday', 2], ['SOBHGGX12A8AE45557', 'Someday', 2], ['SOQJNKG12A8C144435', 'Dear John', 2], ['SORWUHT12AB018364A', 'Outro', 2], ['SOKUKVS12A8C13E328', 'Wake Up', 2], ['SOVXAXI12A8C1383D9', \"Don't Go\", 2], ['SOFEYYG12A8C133BBB', \"Don't Panic\", 2], ['SOFXNQP12AB0184F1A', 'Hate', 2], ['SOUCKDH12A8C138FF5', \"Don't Panic\", 2], ['SOKXTVE12AB017F955', 'Coma', 2], ['SOYPFWS12AB017C999', \"Don't Panic\", 2], ['SOQYXOV12AB017FE9C', 'Gravity', 2], ['SOJCIPT12AB0181305', \"Don't Stop The Music\", 2], ['SOBARJH12AB0182155', 'Maybe', 2], ['SOTEOMG12AB0184E70', 'The Only One', 2], ['SOKLZXF12AB01887C4', 'Back In The Day', 2], ['SOHLOLL12AAF3B3D9F', 'Superman', 2], ['SOVXGLT12A6D4F952C', 'Awake', 2], ['SOWNHFY12AB01815CA', 'Fireworks', 2], ['SOZNOMS12A6310D7B3', 'Awake', 2], ['SOLPELO12A6D4F7F15', 'Shelter', 2], ['SOJWKFY12A6D4F6949', 'Girlfriend', 2], ['SOQPQKF12A8C141EA3', 'Broken', 2], ['SOHMNPP12A58A7AE4B', \"What It Ain't\", 2], ['SONQBUB12A6D4F8ED0', 'Angie (1993 Digital Remaster)', 2], ['SOCKIPJ12A67FFB378', 'Suicide', 2], ['SOCZBXV12A8C139014', 'Suicide', 2], ['SOCKYOP12A58A7C4EC', 'Drama', 2], ['SOSMTZD12A8C143887', 'Wake Up', 2], ['SOPZLVI12A8C1360BD', 'Revolution', 2], ['SOSUDUZ12AB017D1A1', 'Outro', 2], ['SOHWUJT12AB017DDF8', 'Be With You', 1], ['SOSZTYS12A8C1396F9', 'I Found That Essence Rare', 1], ['SOZCTXZ12AB0182364', 'Setanta matins', 1], ['SOHNDZB12A8C13EDB8', 'Shooting Stars', 1], ['SOIQRVH12AF729EE08', 'Nuff Fire', 1], ['SOAVEDV12A8C143845', 'Fire', 1], ['SOEGZFE12A6BD546AE', 'Fearless', 1], ['SOWZREF12A8C13810B', 'Fire', 1], ['SOFDXZL12A6D4F96AB', 'Baja por diversion (directo 05)', 1], ['SOIMDBI12B0B806778', 'Anything', 1], ['SOLNAVA12AB01842E0', 'Star Eyes', 1], ['SOJDXQI12AF72A580E', 'One Year_ Six Months', 1], ['SOPIOBL12AB0186E57', 'Voodoo', 1], ['SOROSRY12A6D4F7B64', 'Risque (Album Version)', 1], ['SODUMOP12A8C136DCB', 'Penelope', 1], ['SODTRKW12A6D4F9A51', 'Planet Caravan (Remastered LP Version)', 1], ['SOVSTHG12A8C13E033', 'Carry On Wayward Son', 1], ['SOISFRK12A6D4F573D', 'Affliction', 1], ['SOACXKV12AB0189328', 'Skyscraper', 1], ['SOLLOSO12AB0184A7A', 'Missing (Live in Europe)', 1], ['SOYQYTX12AB0186FFA', 'Bury My Heart', 1], ['SOVEBYA12A6D4F413A', 'Elusive Butterfly', 1], ['SOPHGFZ12A6D4F98A1', 'Easy', 1], ['SONNLKB12A6D4FB14D', 'Halloween', 1], ['SOHGMJH12AB0187130', 'In A Dead World (Album Version)', 1], ['SOJOAOZ12A58A7D7B6', 'Because Of You', 1], ['SOMJFSG12A8C13C2A5', 'Fire', 1], ['SODHEKL12AB01838C7', 'Va Bien', 1], ['SOJPUTV12AB017C9A1', 'Against The Wall', 1], ['SOUYIJX12A6D4F96CE', 'For Your Eyes Only', 1], ['SOJPVSC12A6D4F924F', 'Anything', 1], ['SORZRUJ12A6D4F61A6', 'Devil In Disguise', 1], ['SOAKLAU12A6D4F7602', 'Voices', 1], ['SOTVSNZ12A8C13DA01', 'Dragostea din tin (ma-ya-hi)', 1], ['SOARTRF12AB0181F4D', 'Por quererte', 1], ['SOXFSTR12A8AE463B0', 'The Small Print', 1], ['SOCSXKQ12A6D4F95A0', 'Dismantle. Repair.', 1], ['SODBKLI12AB01846B6', 'Alive', 1], ['SOWLLXC12AB0180FFE', 'The Running Man', 1], ['SOGQHEL12AF72A2261', 'Suffering', 1], ['SOFOHOB12AB0186C23', 'I Put A Spell On You', 1], ['SOJJYDE12AF729FC16', 'Two Is Better Than One', 1], ['SOZEGYO12A81C20716', 'Break of Dawn', 1], ['SOSNMJN12A58A7A649', 'Walking On Sunshine', 1], ['SONEGWF12A8C133022', 'Our Filmscore', 1], ['SOKUWEX12AB0188EF4', 'Coast 2 Coast', 1], ['SOKYHYL12A8C13D79D', 'It Was A Good Day', 1], ['SOZUEFV12A8C141169', 'Drive', 1], ['SOYUMQG12A8151AFA9', 'Oh Girl', 1], ['SOTJZBJ12A8C143A71', 'Be My Lover', 1], ['SOLNAGC12A58A7C233', 'Sorry', 1], ['SOJRXUV12A8C136CA0', 'Rhapsody In Blue', 1], ['SOTTNRD12A8C13F7B6', 'Sorry', 1], ['SOPLJVF12A8C13FD43', 'Over Now', 1], ['SOBIHTW12AAF3B3DCD', 'Free', 1], ['SOBRSQO12AB017F8E7', \"Driver's Seat\", 1], ['SOPGUJB12A670212C4', 'Free', 1], ['SOLACCS12AB0184775', 'Without You (Album Version)', 1], ['SOSKOIH12A6D4F8956', 'Touch Me', 1], ['SOKPGFN12A8C143481', 'White Sand', 1], ['SOACRBY12AB017C757', 'On A Deeper Level', 1], ['SOAFREI12A670214C2', 'Prelude', 1], ['SOHPWUL12A6D4F93B1', 'Breathless', 1], ['SOQENMV12A8C13C32F', 'Prelude', 1], ['SOIPGMQ12A6D4F8A10', 'I Tried', 1], ['SOXPSNU12AC468744F', 'Vertigo', 1], ['SOMULQH12A8C138213', 'Marea (version acustica)', 1], ['SOAETBB12A58A7CC31', 'Change', 1], ['SODGSFW12A8C1337FB', 'Loneliness', 1], ['SOWAIRY12A58A77E87', 'Change', 1], ['SOARKPO12AC9618614', 'Today', 1], ['SOUFYCW12A8C132BCB', 'Big', 1], ['SOYCHDB12A8C13F2C8', \"Can't Take My Eyes Off You\", 1], ['SOYZGYL12AB01838AB', 'My Favorite Things', 1], ['SOKZSYA12A6D4F664D', 'Prologue', 1], ['SOVEYQV12A8C13CCF7', 'I Tried', 1], ['SOLCMDE12AB018C680', 'Afterlife', 1], ['SOZQRIG12A6D4FBF3C', 'Awakening', 1], ['SOMMXGD12A8C14355F', 'Come Around', 1], ['SOSGUAJ12A8C1455A1', 'Sooner Or Later', 1], ['SODANFU12A8C135396', 'Free Ride', 1], ['SODTPBM12A8C1339D7', \"Let's Get Married\", 1], ['SODHZVG12A8C1404DD', 'Still Waters', 1], ['SOTDWZK12A8C1350A8', \"Momma's Boy\", 1], ['SOGGAHO12A67ADB9D4', 'Something New', 1], ['SORKKTY12A8C132F3E', 'The Door', 1], ['SOCVDDL12A6D4F9A6C', 'What If', 1], ['SOCQGJZ12AB0189A24', 'Get It On', 1], ['SOOHAFT12A8AE47FC0', 'Know it All', 1], ['SOQTPLM12B0B809575', 'Strange Times', 1], ['SOXTMWU12AB0185E3B', 'One More Lie (Standing In The Shadows)', 1], ['SOEEBCV12A6D4F76A2', 'Losers', 1], ['SOYJPKO12A6D4FDCEA', 's.Ada.Licht', 1], ['SOGCZSL12AB018572C', 'Superstar', 1], ['SOUIIMR12AB0186572', 'Lost And Found', 1], ['SOOQPIK12A6701F1C5', 'Fortunate Fool', 1], ['SOZARNI12A67020744', 'Everything Changes (Album Version)', 1], ['SOFTSHG12A58A7AA06', 'Inertia', 1], ['SOAKYDR12A6D4F7800', 'Exile', 1], ['SOKSREW12A6D4F926D', 'Rebirthing (Album Version)', 1], ['SOJEVZW12A8C133988', 'Waiting', 1], ['SOSJVCA12A8C139501', 'Ubangi Stomp', 1], ['SOLRYQR12A670215BF', 'Panama (Remastered Album Version)', 1], ['SOBMQTA12A8C138DDB', 'Lovely', 1], ['SOJVWSO12AB018161A', 'Pray', 1], ['SOFGMQR12A8C1426B0', 'Jambalaya (On The Bayou)', 1], ['SOEKYXP12AB018A004', \"That's My Home\", 1], ['SOQTDYT12AB0179BCA', 'Everything', 1], ['SOZYHNC12A8C13B9D0', \"Pa' Que Retozen (Amended Version)\", 1], ['SOISBUO12AB018627E', 'Murderer', 1], ['SOEBLGP12A6D4F75BA', 'Drive', 1], ['SOVPSWY12A58A7B83F', 'Dustbowl', 1], ['SOFWNCU12AB01805B1', 'Say It', 1], ['SOBPYAB12AC468AAB0', \"Can't Stop\", 1], ['SOAQAQG12AB017B582', 'Fear', 1], ['SOOIPWS12AB018CBBB', 'The House That Nat Built (Album Version)', 1], ['SOAHVKA12A8C146C5F', 'Where The Wild Things Were', 1], ['SOCUITT12AB0187A32', 'Thugs Like Me', 1], ['SOJNLML12A58A7E1D4', 'Over Now', 1], ['SOJMUAN12AB0183911', 'Street Lights', 1], ['SONCRPK12A8C132226', 'Suffering', 1], ['SOXKEBM12AF729DBEB', 'Mirrors', 1], ['SOBBZPM12AB017DF4B', 'Pop Is Dead', 1], ['SORDWGC12AB01840A3', 'The Moon Asked The Crow', 1], ['SOTPQFM12AB017AC9E', \"I'm Not A Loser\", 1], ['SOAOOXO12AF72A787F', 'Still', 1], ['SOSUJDS12AB0184825', 'M', 1], ['SOFYLAZ12A8C13E2BD', 'Kite', 1], ['SOIKPOX12A58A7BA0B', 'A Lo Clasico', 1], ['SOODHLO12AF72A1980', 'The Joker', 1], ['SOAOJYY12A58A7B2F9', 'Not For You', 1], ['SODWSJA12AC46899CF', 'Ghost Town', 1], ['SOBNYLJ12AB0189934', 'La Derrota de Un Don Juan', 1], ['SOMCKUB12AB018BD24', 'Punk Rock Girl', 1], ['SOSQIHH12A8C13370B', '15 Step', 1], ['SOXSFXZ12A8C139899', \"I'll Never Get Over You Getting Over Me\", 1], ['SOBBHVN12A6702162D', 'More Adventurous (Album Version)', 1], ['SOVQIEO12AAA15CFE8', 'Come To Me', 1], ['SOAXJKO12A6D4F9599', 'Loco', 1], ['SOHBOGO12AF729ED85', 'Mars', 1], ['SOQIHQO12AB018A35C', 'Wax on Tha Belt (Baby G Gets Biz)', 1], ['SOKXJKN12A6D4F86D5', 'En Lo Puro No Hay Futuro', 1], ['SOUVWYW12AB018A471', 'Greed', 1], ['SOSJEEG12A6BD5571F', 'No Good 4 You', 1], ['SOZFVWZ12A58A7B977', 'Flex', 1], ['SOFMQDK12AF729D3C8', \"Don't Lie\", 1], ['SOYPMJM12A6701F761', 'Suddenly', 1], ['SOEHGER12A8AE47DB2', 'One Way Or Another', 1], ['SOUOGGU12A8C1425E7', 'Wonderful', 1], ['SOJWCWM12A8C13B664', 'Suena (\"Some Day\" end title song \"The Hunchback of Notre Dame\")', 1], ['SOQBTYG12A8C13C9E6', 'Blue Blood', 1], ['SOTJEIC12A8C139054', 'Macarena', 1], ['SOZSJVM12A8C13B843', 'Amor Prohibido', 1], ['SOHDWWH12A6D4F7F6A', 'I Want A New Drug', 1], ['SOFUCUZ12A6D4F9EDA', 'Jambalaya (On The Bayou)', 1], ['SOSXCYS12AB017B9A1', 'Just Friends', 1], ['SOQLNUG12A6701C5D4', \"Can't Let Go\", 1], ['SOEXJAV12A6D4FAAC5', 'Sara', 1], ['SOGDTEM12A8C13D215', 'How I Could Just Kill A Man', 1], ['SONQLSC12AB01816E0', 'The Raft', 1], ['SONCIXN12A8C134423', 'Winter Wonderland', 1], ['SOQYHVZ12A6D4F93CF', 'Ben', 1], ['SOEGPFZ12AB0180F58', 'Freedom', 1], ['SOBZVRH12AB017E245', 'My Blue Heaven', 1], ['SOECLAD12AAF3B120A', \"St. Patrick's Day\", 1], ['SOSQIRI12A8C133897', 'Good Morning Susie Soho', 1], ['SOLIQUE12A58A78306', 'Warning', 1], ['SOXBNQH12A8C13C318', 'Red Right Ankle', 1], ['SOSYMSX12A6310DFE2', 'Subterranean Homesick Alien', 1], ['SOOUXUD12AB0188D97', 'Jumpers (Album)', 1], ['SOCIGMX12A8C144150', 'My Night With the Prostitute From Marseille', 1], ['SOMGWTZ12A8C1397D9', 'Woman', 1], ['SODVXIB12AF72A37F3', 'Settle For A Slowdown', 1], ['SOARSZY12A8C140F20', 'Always Attract', 1], ['SOFEIDA12A6D4FBFA5', 'Down On The Corner', 1], ['SOUJCGZ12AC4688886', 'Lonely', 1], ['SODVFGB12A8AE4615E', 'All I Need', 1], ['SOVZXCI12AB0185813', 'Busted', 1], ['SOOMAQZ12A58A775C2', 'Slave', 1], ['SOCHPTV12A6BD53113', 'Die Kunst der Fuge_ BWV 1080 (2007 Digital Remaster): Contrapunctus XVII - Inversus', 1], ['SOTRVOZ12A6D4FB91C', 'Again', 1], ['SOLAYSZ12A6701F5BE', 'Sun / C79', 1], ['SORWNSF12A6D4FCCA7', \"At Least It's Raining\", 1], ['SOUIZBU12A8C1458F8', 'By The Way', 1], ['SOEDHLM12AB0187C73', 'Love My Shake', 1], ['SOJDAMT12A3F1EC414', 'Good Times', 1], ['SOHWVJJ12AB0185F6D', 'Fool For Your Loving', 1], ['SOYPWPS12AC4688650', 'Inches And Falling (I Love_ Love) (Live)', 1], ['SODEQCE12A8C13EB88', 'Adrenaline', 1], ['SODRAUM12A6D4F6F4F', 'Chemistry', 1], ['SODWLOQ12AB017EC73', 'Till The Sky Falls Down', 1], ['SOJCJMT12A8AE492E5', 'Musti Sotakoira (2007 Digital Remaster)', 1], ['SOJDGCV12A8C13A352', 'Superstar', 1], ['SOFDYYA12A58A78E73', 'Tell Him', 1], ['SOVBQIJ12A6D4F676F', 'Sehnsucht', 1], ['SOVKEPP12A6D4FBFE6', 'Victory', 1], ['SOSOMQZ12AB0180900', 'Have You Ever Seen The Rain', 1], ['SODOLVO12B0B80B2F4', 'Hell', 1], ['SORTFPF12A81C2171A', \"Almeno Tu Nell'Universo\", 1], ['SOVVSKV12A6701FCA0', 'So Long', 1], ['SOEIQUY12AF72A086A', 'Eriatarka', 1], ['SOKOLSL12AB0189C34', 'Clock', 1], ['SOWTZNU12AB017EADB', 'Heads Will Roll', 1], ['SOPYRVF12A6D4F8A90', \"I Was Made For Lovin' You\", 1], ['SOIGBNU12A58A79957', 'There You Go', 1], ['SOBLFFE12AF72AA5BA', 'Scream', 1], ['SOYRFUE12AB0183E5C', 'Sometime Around Midnight', 1], ['SOHRKIG12A8C1415C7', 'Get Set For The Blues', 1], ['SOAWVAF12A8C13FAD0', 'Wait For Me', 1], ['SOJALYZ12A8C1442F6', 'Sail Away', 1], ['SOILWLC12A58A7A3A0', 'Homecoming', 1], ['SODHOHA12A8C1397F1', 'Club Soda (Album)', 1], ['SOVDQRS12AC4689864', 'Thinking Of You', 1], ['SOZAOKC12AB01820D5', 'Bad Actors', 1], ['SODXQAI12AB017DF79', 'Change', 1], ['SOLWQQJ12A8C13A2BD', 'Szex & KV', 1], ['SOPMXVP12AB0186DD3', 'Train', 1], ['SOKQFRT12A8C132F46', \"The Train Kept A Rollin'\", 1], ['SOIRGRL12AB0186BC2', 'Exchange', 1], ['SOFEIEF12A6D4F7908', 'Say It', 1], ['SOXDAST12A6D4FC59E', 'Hurt', 1], ['SONACHY12AB0187123', 'Fear', 1], ['SOLGNOM12A6D4FA35F', 'Forgiven', 1], ['SONQEAO12A6D4F8CB3', 'Rozando La Eternidad', 1], ['SORPKWR12AB0183E01', 'Forgiven', 1], ['SOGVJTG12A6701E991', 'Angel', 1], ['SOGIRHD12AB017E2D3', 'Awakening', 1], ['SOLIFQM12A6702054E', 'Angel', 1], ['SOMODCT12A8C137EAA', 'Lonely', 1], ['SOSCSNB12A58A77A94', 'Why', 1], ['SOXWSNO12AB0181372', 'Busted', 1], ['SOHJYGD12A8C13CF7F', \"I'm Down\", 1], ['SOWHEAR12A8C13CE45', \"Please Don't Go\", 1], ['SOXDKAG12A6D4FA94A', 'Honey', 1], ['SOGPESA12AB0180D65', 'Bang! Bang!', 1], ['SOQMJNS12AF72A253D', 'Games', 1], ['SOHIBSG12A8C13E741', 'Eye Of The Beholder', 1], ['SOVQACV12AC3DF69F5', 'I Can See', 1], ['SOYGZDU12AB0189DE6', 'I Want You', 1], ['SOKMBHF12A58A7ACE4', 'Ring My Bell', 1], ['SOAFQGA12A8C1367FA', \"I'm Still Breathing\", 1], ['SOVAEBW12AB0182CE6', 'Mise En Bouche', 1], ['SOTCFPV12A8C13CE08', \"C'est La Vie\", 1], ['SOSDYAS12AB0180457', 'All Of This', 1], ['SOPRQEX12A8C133558', 'Something About Mary', 1], ['SOGWOQM12A8C13D5AE', 'Affliction', 1], ['SODPLYE12AB01898FB', 'A New Hope', 1], ['SONXLSI12AF729F8A3', 'Watch Out', 1], ['SORAHAG12AB0182BD0', 'Songs Of The Season', 1], ['SOEHTZE12A6310F0F2', 'One I Love', 1], ['SOFFLAG12A8C13C2BE', 'Why', 1], ['SOZQSGL12AF72A9145', 'Halloween', 1], ['SOUBOBW12A6D4F48F2', 'Why', 1], ['SOELMSN12AB0180441', 'Pain', 1], ['SOUHTWB12A8C13BA4D', 'Manchild', 1], ['SOHRHCN12AB018B0F4', \"It's Not Easy (Being Green) (Featuring Pierre Bouvier Of Simple Plan)\", 1], ['SOEBFTV12A8C14349A', 'Strange Fruit', 1], ['SOSSONI12A58A79D49', 'Prelude', 1], ['SOUZPXW12AF72A3606', 'Threads', 1], ['SOWFHCO12AB0189063', 'Drunk Girls', 1], ['SOMBIWH12A58A7DB9B', 'Hollywood', 1], ['SOSLZJM12A58A7CF4E', 'The Mixed Tape (Album Version)', 1], ['SOBJUKG12A58A7DCA8', 'Two Hearts', 1], ['SOLFJYV12A6D4F9731', 'Persephone', 1], ['SOFOOFA12A58A7965E', 'Meus Sonhos', 1], ['SOTJXIH12A6D228208', 'The Vision', 1], ['SOVLOXM12A6D4FA5C6', 'Truly_ Madly_ Deeply', 1], ['SOKSNPP12AB017C33E', 'Too Much', 1], ['SOYYYGW12AB017FF2D', 'Let It Out', 1], ['SOGCKUF12AB018048B', 'Fever', 1], ['SOQHTUT12A8AE475F2', 'Let It Go', 1], ['SOTRAIA12A8AE47465', 'Red', 1], ['SOAHNFK12AC9075097', 'Let Me Be', 1], ['SODWXQV12A6310F10D', 'English Summer Rain', 1], ['SOMVLEG12AB017C1D0', 'Passenger 10', 1], ['SOWCBVS12AB01871AD', \"Can't Let Go\", 1], ['SOHKXAC12A58A7F6E5', 'IV', 1], ['SOLLNII12AB017BBFB', 'Seaside', 1], ['SOVFUXP12AB018F6F0', 'Johnny_ I Hardly Knew Ya', 1], ['SOLQSYZ12A58A7919B', 'Spinning (Album Version)', 1], ['SOWVYWK12A8C14141F', 'Easy', 1], ['SOAHAEF12AB017E6A5', \"I'm In Love\", 1], ['SOTNHOX12AB0184D9F', 'I Wonder Why', 1], ['SONQWXY12A81C204D7', 'O Xote Das Meninas/Asa Branca/Hino A Sao Jose', 1], ['SOABIXP12A8C135F75', 'Witness', 1], ['SOGZANN12AB018736A', 'Freedom', 1], ['SOCNAKK12A8C13AB0C', '(I Just) Died In Your Arms', 1], ['SOOGFGO12A8C13B0B2', 'Best Of Me', 1], ['SORGRRK12AB017D3FB', 'Fire', 1], ['SOFIGYP12A6D4FA5C7', 'Twilight', 1], ['SOXQUPO12A6D4FC2B6', 'Enganchate Conmigo', 1], ['SOIZLVK12AC468C3BA', 'Next Hype', 1], ['SOAOXTT12AB0182E23', 'Harder Than You Know', 1], ['SOKMDJJ12AB0181C64', 'Starfish-On-The-Toast (2008 Digital Remaster)', 1], ['SOWQFSR12A58A7AEFC', 'Inevitable', 1], ['SOANHZN12A8C141172', 'Anything', 1], ['SORTSWB12A58A7DCA3', 'These Words', 1], ['SOZDIFI12AB017EE3A', 'Inside Of You', 1], ['SOIJDKV12AB01810D7', 'Give It To Me', 1], ['SOOWUWR12A8C13A62C', 'Beautiful Flower', 1], ['SOSELMV12A6D4FCF5A', 'Valerie', 1], ['SOHTBVT12A8C144F94', 'The One', 1], ['SOCSSGZ12AB017F146', 'Give It Up', 1], ['SOKNMJE12A67AE0421', 'Kids In America', 1], ['SODNXEC12A8C130EFA', 'Everyday', 1], ['SOGAVES12AB0188D22', 'Tonight', 1], ['SONIMSH12A8C13F160', 'Over And Over', 1], ['SOOPTTP12A8C134AA6', 'Everyday', 1], ['SOUGLIK12A8C143DF4', 'Solar Powered', 1], ['SOKOGIP12AB0182FCD', 'Adrenaline', 1], ['SOAECHX12A6D4FC3D9', 'Yippiyo-Ay', 1], ['SOATMMS12A58A7CDFE', 'Work To Do', 1], ['SOFPDCU12A6D4FD0DC', 'Revolution Deathsquad (Album Version)', 1], ['SOSTRFF12A6D4F67B4', 'Voodoo Doll', 1], ['SOWCLTO12A67021CEC', 'One Woman Man', 1], ['SOFRDPR12A8C139B54', 'Born In Africa', 1], ['SOCSITI12AC3DF7F35', 'Breathe In', 1], ['SOTUWPH12AB017DEBC', 'Ezio In Florence', 1], ['SODCQYZ12A6D4F9B26', 'My Everything (Lost In Worship Album Version)', 1], ['SOWOOXX12AB0183305', 'Always', 1], ['SOSCHDW12A8C130FD7', 'Song Sung Blue', 1], ['SOKSFRA12AB017F5AE', 'Invincible', 1], ['SOISMLS12AB0181194', 'So Small', 1], ['SOHZDYL12A8C141C73', 'My Perfect Cousin', 1], ['SOQOXXW12AF729F20B', 'On My Own', 1], ['SOPNXMP12A81C222B5', 'Happy', 1], ['SOCDOVE12AB01808DE', 'Handlebars (UK Radio Edit)', 1], ['SOMUJKC12AB01865AD', 'The Invitation', 1], ['SOTETAR12AF72A5FF7', 'Paradigm Shift', 1], ['SOOXLKF12A6D4F594A', 'Harder To Breathe', 1], ['SOTDKGV12AB017E39A', 'Why', 1], ['SOQDUIS12AB0184557', 'Angel', 1], ['SOGPNMB12A8C141375', 'Photographs', 1], ['SOZWTOK12AB0183976', 'Beat It', 1], ['SOUMUUK12AB018AEF6', 'Intermission', 1], ['SOVWWJW12A670206BE', 'Astrud Astronette', 1], ['SOXKMLO12AB017FFDB', 'Honey', 1], ['SOULLSJ12AB017F266', 'Waiting', 1], ['SOIEAMX12A8C137AED', 'Colorblind', 1], ['SOFWEJY12A8C131DF1', 'Misty', 1], ['SOIMLDL12A8C14283D', 'Stranger Lover', 1], ['SOIBFHF12AAF3B5237', \"How 'Bout You\", 1], ['SOTSQDK12AB0184D15', 'You (w/o Organ Version)', 1], ['SOPGMLA12A6D4F4BDF', 'Zero', 1], ['SOCEOAD12A5891FA33', 'The One', 1], ['SOFFFRA12A81C2059A', 'Voices', 1], ['SOVGBAH12AB018792A', 'Got Me', 1], ['SOQUAMB12AB0181F51', 'Hero', 1], ['SOBGNZC12AB0189CD2', 'Play On', 1], ['SOZDGSX12A8C139AA7', 'Tha', 1], ['SOFJHRN12AB017CF8B', 'Aurora', 1], ['SOJTBRF12AB018E3EA', 'Body Language', 1], ['SOQFLCP12A8C1322D3', 'Romeo And Juliet', 1], ['SORLLRN12A58A7F1EE', 'Be With You', 1], ['SORKDUM12A6D4FA813', 'A Little Bit Of Love', 1], ['SONYOVC12AC46899F7', 'Watch Out', 1], ['SOBNMIT12A8AE466EE', 'Pain', 1], ['SOAUKIS12A58A7F424', 'Timebomb (LP Version)', 1], ['SOWTCLZ12A8AE4572F', 'Drifting Away', 1], ['SOEKSGJ12A67AE227E', 'Crawling (Album Version)', 1], ['SOZSCRE12A8C13AD3F', 'Wait', 1], ['SOWFDBX12A6701E13E', 'Hollywood', 1], ['SOBDYXU12A58A8065D', 'Safety Dance', 1], ['SOBANHD12A58A7BB7C', 'Frontline', 1], ['SOVLVZP12A8C143583', 'Baby', 1], ['SOCJWPI12A8C13D357', \"Wish I Didn't Miss You\", 1], ['SOXAUYW12A6D4F7DAB', 'Say Hello', 1], ['SOVVPUX12AF72A7FCA', 'Drive', 1], ['SOBDLAF12AF72A69D7', 'Ride Wit Me', 1], ['SOWFZAH12AB0182D05', 'Just Friends', 1], ['SOGBDGE12A58A80389', 'Change', 1], ['SOUFWFG12AC9072C7E', 'If Looks Could Kill', 1], ['SORZTJA12AB0185B12', 'Complicated', 1], ['SOQOXTB12A8C1415C1', 'Sorry', 1], ['SOTLVAJ12A8C13ECE2', 'Complicated', 1], ['SOCABAB12A58A771F6', 'Ben', 1], ['SOCESIF12A8C132E89', 'The Vision', 1], ['SODPMFZ12A8C135E5A', 'Good Day', 1], ['SOXMYNC12A58A7DA45', 'Insight', 1], ['SOFZZKJ12A6701D935', 'Never Saw It Coming', 1], ['SOCSQAN12AB01879E1', 'Possessed', 1], ['SOAGIPB12AB0181E21', 'No One', 1], ['SOCDBKG12AF729DAC7', 'Come Away With Me', 1], ['SOZBJRJ12AB01830CD', 'Vertigo', 1], ['SOKHAAU12A6D4F71EF', 'Fog On The Tyne (Live)', 1], ['SOECIFL12A6D4F78FE', 'I Am Trying to Break Your Heart', 1], ['SOVRZZJ12AB018E1D5', 'Two Hands', 1], ['SOFZQNM12AB0183C50', 'No One Knows', 1], ['SOGGWLF12A8C141D29', 'Mirrors', 1], ['SOEKGDN12AB0184D42', 'Change', 1], ['SOOASQQ12A8C13B2DA', 'Freedom', 1], ['SOGEHQW12AF72A46DF', 'Change', 1], ['SOGLHFL12A8C13C346', \"It's A Shame\", 1], ['SOHOVIP12A6D4F9267', 'Marigold', 1], ['SOZKJCT12A8C143F02', 'Twilight', 1], ['SOSDZFY12A8C143718', 'Forgotten', 1], ['SOGXSWA12A6D4FBC99', 'Fighters (feat. Matthew Santos) (Amended Album Version)', 1], ['SOLSEQY12AB017D400', 'Red', 1], ['SOBNSFW12A67020E2E', 'Redwing', 1], ['SOROTVP12A8C13A565', 'What Do I Know', 1], ['SOCNQHM12A8C1371E6', 'Shattered', 1], ['SOLXWUL12A6D4F6716', 'Playback', 1], ['SOOJOTK12A8C13DE2A', 'Straight To Hell', 1], ['SOARTQC12A58A77F0C', 'Shimmy Shimmy Quarter Turn (Take It Back To Square One)', 1], ['SOCMYPE12AC3DF7FDB', 'All I Need', 1], ['SOOAXBU12A8C141C71', 'By The Way', 1], ['SOTLYRR12A8C13951F', 'Danny Boy', 1], ['SODJGCE12AB0188CCA', 'Rosemary', 1], ['SOSSNUO12A8C13D0A7', 'Tonight', 1], ['SOSRAUR12A8C13F697', 'Jambalaya (On The Bayou)', 1], ['SOQKCRV12AB018B431', 'Always Will (LP Version)', 1], ['SOWISQE12A6D4F7DBB', 'Same Old Thing', 1], ['SOAXEZA12A58A781D2', 'Let Go', 1], ['SODFRAX12A8C13274B', 'Let It Go', 1], ['SOXPHJE12AB0187219', 'Run', 1], ['SOAYXCJ12AB0183822', 'Cry', 1], ['SOCJRPG12A58A7EA4B', 'The Garden', 1], ['SOOXREI12A8C133901', 'Freedom', 1], ['SOZQZEU12A58A78FCB', 'Come On', 1], ['SOSFJWB12AB018906D', 'Smoke', 1], ['SOIBLDG12AB01843DD', 'Come Around', 1], ['SORTPHZ12A8C13D374', 'I Am The Club (Explicit Album Version)', 1], ['SOYIOXK12AB0182E53', 'Invincible', 1], ['SOYMXQJ12A8C137881', 'Despre tine', 1], ['SOIBHYW12AB0188F49', 'Shiny & New', 1], ['SOGIHQJ12A58A75AC9', 'World Coming Down', 1], ['SOWIMME12A8C142C52', 'Scream', 1], ['SODAUOI12AB0181942', 'Possession', 1], ['SOJNJGQ12A6D4F62BC', 'Atrevido', 1], ['SOQUHYB12AB0186630', 'I Want You Back', 1], ['SOJWLVW12A67ADE81C', 'Possibilities (The Face Of Love Album Version)', 1], ['SOVMSTD12A6D4F9840', 'The Haunting', 1], ['SOAYHDS12AB018016A', \"Sorrow's Army\", 1], ['SOAAZWW12A8AE460E9', 'Dream', 1], ['SOMKQIG12A8C135DE3', 'Bye Bye', 1], ['SOQHFWA12AAA8C6662', 'Engel', 1], ['SOKUAEP12A8C13BE19', 'Estoy Enamorado De Ella (Salsa)', 1], ['SOKHSQZ12AB017EC54', 'Danke Schoen', 1], ['SOTCYEO12A6D4F9DD7', 'Turn The Radio Off', 1], ['SOHKKXU12A67ADA08F', 'Voodoo Doll', 1], ['SODMDEC12AB018BCD4', 'Invisible', 1], ['SOBRFPG12A8AE4837D', 'El Novio Del Olvido', 1], ['SOGFRYH12AB018750F', 'Celebration', 1], ['SOQSYGY12A8C137E0F', 'Como La Flor (2005 Re-mastering) (Live)', 1], ['SOODWUO12AB01813C1', 'Scream', 1], ['SOOUGRM12A58A795E1', 'Move', 1], ['SOLQGHZ12A8C139194', 'Por Ella', 1], ['SOEZAPN12AB01864D3', 'No Words', 1])\n"
     ]
    }
   ],
   "source": [
    "query_most_played_song = \"\"\"\n",
    "    SELECT sp.song_id, \n",
    "        s.title, \n",
    "        count(*) AS count_song\n",
    "    FROM songplays AS sp, songs AS s \n",
    "    WHERE s.song_id = sp.song_id  \n",
    "    GROUP BY sp.song_id, s.title \n",
    "    ORDER BY count_song DESC\n",
    "\"\"\"\n",
    "cursor.execute(query_most_played_song)\n",
    "result: tuple = cursor.fetchall()\n",
    "print(result)"
   ]
  },
  {
   "cell_type": "code",
   "execution_count": 28,
   "metadata": {},
   "outputs": [
    {
     "name": "stdout",
     "output_type": "stream",
     "text": [
      "([583, 8, 'Summers', 'Kaylee', datetime.datetime(2018, 11, 1, 21, 11, 13), 'The Mars Volta', 'Eriatarka'], [567, 8, 'Summers', 'Kaylee', datetime.datetime(2018, 11, 7, 1, 42, 43), 'Yeah Yeah Yeahs', 'Heads Will Roll'], [319, 8, 'Summers', 'Kaylee', datetime.datetime(2018, 11, 27, 4, 25), 'Linkin Park', 'Given Up (Album Version)'], [921, 12, 'Rosales', 'Austin', datetime.datetime(2018, 11, 6, 8, 49, 19), 'Slim Dusty', 'Long Black Road'], [368, 12, 'Rosales', 'Austin', datetime.datetime(2018, 11, 12, 21, 4, 41), 'Frozen Plasma', 'Home'], [252, 12, 'Rosales', 'Austin', datetime.datetime(2018, 11, 12, 21, 4, 41), 'Working For A Nuclear Free City', 'Home'], [339, 12, 'Rosales', 'Austin', datetime.datetime(2018, 11, 12, 21, 4, 41), 'Gemma Hayes', 'Home'], [521, 12, 'Rosales', 'Austin', datetime.datetime(2018, 11, 12, 21, 4, 41), 'Eli Young Band', 'Home'], [164, 12, 'Rosales', 'Austin', datetime.datetime(2018, 11, 12, 21, 22, 1), 'Kid Cudi / Kanye West / Common', 'Up Up & Away'], [213, 12, 'Rosales', 'Austin', datetime.datetime(2018, 11, 21, 5, 50, 57), 'Siempre asi', 'Por Ella'], [477, 26, 'Smith', 'Ryan', datetime.datetime(2018, 11, 11, 23, 39), 'Madonna', 'Holiday'], [187, 26, 'Smith', 'Ryan', datetime.datetime(2018, 11, 12, 11, 45, 25), 'Dwight Yoakam', \"You're The One\"], [976, 26, 'Smith', 'Ryan', datetime.datetime(2018, 11, 16, 8, 2, 56), 'Blood_ Sweat & Tears', 'Overture'], [1069, 26, 'Smith', 'Ryan', datetime.datetime(2018, 11, 16, 15, 36, 1), 'Carleen Anderson', 'Secrets'], [1012, 26, 'Smith', 'Ryan', datetime.datetime(2018, 11, 16, 15, 39, 45), 'Inimigos Da HP', 'Bye Bye'], [937, 26, 'Smith', 'Ryan', datetime.datetime(2018, 11, 16, 18, 7, 51), \"Caedmon's Call\", 'There You Go'], [194, 26, 'Smith', 'Ryan', datetime.datetime(2018, 11, 19, 11, 30, 11), 'Electronica', 'Just Dance'], [895, 26, 'Smith', 'Ryan', datetime.datetime(2018, 11, 26, 9, 56, 36), 'Wax Poetic', 'Life'], [1152, 26, 'Smith', 'Ryan', datetime.datetime(2018, 11, 26, 9, 56, 36), 'Jamelia', 'Life'], [1066, 26, 'Smith', 'Ryan', datetime.datetime(2018, 11, 26, 9, 56, 36), 'Cece Winans', 'Life'], [816, 26, 'Smith', 'Ryan', datetime.datetime(2018, 11, 28, 17, 6, 33), 'The Panic Channel', 'Awake'], [771, 26, 'Smith', 'Ryan', datetime.datetime(2018, 11, 28, 17, 6, 33), 'Godsmack', 'Awake'], [473, 26, 'Smith', 'Ryan', datetime.datetime(2018, 11, 28, 17, 6, 33), 'Finch', 'Awake'], [227, 26, 'Smith', 'Ryan', datetime.datetime(2018, 11, 30, 14, 0, 38), 'Tenth Avenue North', 'Hallelujah'], [670, 43, 'Miles', 'Jahiem', datetime.datetime(2018, 11, 5, 5, 12, 49), 'Earl Klugh', 'Tenderly'], [1002, 43, 'Miles', 'Jahiem', datetime.datetime(2018, 11, 15, 12, 25, 14), 'The Felix Culpa', 'Bad Actors'], [724, 65, 'Davidson', 'Amiya', datetime.datetime(2018, 11, 21, 5, 14, 42), 'Alexia', 'Happy'], [1047, 65, 'Davidson', 'Amiya', datetime.datetime(2018, 11, 21, 5, 18, 22), 'Prince Po', 'Hello'], [169, 65, 'Davidson', 'Amiya', datetime.datetime(2018, 11, 21, 5, 37, 24), 'Alfonzo Blackwell', 'I Miss You'], [208, 65, 'Davidson', 'Amiya', datetime.datetime(2018, 11, 21, 5, 37, 24), 'Billie The Vision & The Dancers', 'I Miss You'], [310, 65, 'Davidson', 'Amiya', datetime.datetime(2018, 11, 21, 5, 53, 24), 'Ashanti', 'No Words'], [1026, 90, 'Butler', 'Andrea', datetime.datetime(2018, 11, 16, 16, 27, 21), 'Thousand Foot Krutch', 'The Invitation'], [989, 98, 'Powell', 'Jordyn', datetime.datetime(2018, 11, 29, 8, 23, 9), 'School Of Seven Bells', 's.Ada.Licht'], [299, 10, 'Cruz', 'Sylvie', datetime.datetime(2018, 11, 2, 17, 31, 45), 'Lonnie Gordon', 'Catch You Baby (Steve Pitron & Max Sanna Radio Edit)'], [337, 10, 'Cruz', 'Sylvie', datetime.datetime(2018, 11, 14, 5, 6, 3), 'Nach', 'Intro'], [616, 10, 'Cruz', 'Sylvie', datetime.datetime(2018, 11, 14, 5, 6, 3), 'Snoop Dogg featuring Kid Cudi', 'Intro'], [423, 10, 'Cruz', 'Sylvie', datetime.datetime(2018, 11, 14, 5, 6, 3), 'Papoose', 'Intro'], [329, 10, 'Cruz', 'Sylvie', datetime.datetime(2018, 11, 14, 5, 6, 3), 'Lauryn Hill', 'Intro'], [600, 10, 'Cruz', 'Sylvie', datetime.datetime(2018, 11, 14, 5, 6, 3), 'Refused', 'Intro'], [627, 10, 'Cruz', 'Sylvie', datetime.datetime(2018, 11, 14, 5, 6, 3), \"Roc 'C' feat. J-Ro from Tha Liks\", 'Intro'], [588, 10, 'Cruz', 'Sylvie', datetime.datetime(2018, 11, 14, 5, 6, 3), '40 Grit', 'Intro'], [613, 10, 'Cruz', 'Sylvie', datetime.datetime(2018, 11, 14, 5, 6, 3), 'Paralysed Age', 'Intro'], [589, 10, 'Cruz', 'Sylvie', datetime.datetime(2018, 11, 14, 5, 6, 3), 'Diamond D', 'Intro'], [345, 10, 'Cruz', 'Sylvie', datetime.datetime(2018, 11, 14, 5, 6, 3), 'Biz Markie', 'Intro'], [130, 10, 'Cruz', 'Sylvie', datetime.datetime(2018, 11, 14, 5, 6, 3), 'DJ Clue / P. Diddy', 'Intro'], [581, 10, 'Cruz', 'Sylvie', datetime.datetime(2018, 11, 14, 5, 6, 3), 'Lou Reed', 'Intro'], [415, 10, 'Cruz', 'Sylvie', datetime.datetime(2018, 11, 14, 5, 6, 3), 'Fursaxa', 'Intro'], [321, 10, 'Cruz', 'Sylvie', datetime.datetime(2018, 11, 14, 5, 6, 3), 'Styles Of Beyond', 'Intro'], [597, 10, 'Cruz', 'Sylvie', datetime.datetime(2018, 11, 14, 5, 6, 3), 'Bizzy Bone', 'Intro'], [643, 10, 'Cruz', 'Sylvie', datetime.datetime(2018, 11, 14, 5, 6, 3), 'Lesbians On Ecstasy', 'Intro'], [624, 10, 'Cruz', 'Sylvie', datetime.datetime(2018, 11, 14, 5, 6, 3), 'Shihad', 'Intro'], [407, 10, 'Cruz', 'Sylvie', datetime.datetime(2018, 11, 14, 5, 6, 3), 'Adam F', 'Intro'], [582, 10, 'Cruz', 'Sylvie', datetime.datetime(2018, 11, 14, 5, 6, 3), 'Ralph Stanley', 'Intro'], [651, 10, 'Cruz', 'Sylvie', datetime.datetime(2018, 11, 14, 5, 6, 3), 'Chromeo', 'Intro'], [431, 10, 'Cruz', 'Sylvie', datetime.datetime(2018, 11, 14, 5, 6, 3), 'Styles P', 'Intro'], [635, 10, 'Cruz', 'Sylvie', datetime.datetime(2018, 11, 14, 5, 6, 3), 'Trespassers William', 'Intro'], [608, 10, 'Cruz', 'Sylvie', datetime.datetime(2018, 11, 14, 5, 6, 3), 'Ex Models', 'Intro'], [605, 10, 'Cruz', 'Sylvie', datetime.datetime(2018, 11, 14, 5, 6, 3), 'Will Smith Featuring Biz Markie & Slick Rick', 'Intro'], [138, 10, 'Cruz', 'Sylvie', datetime.datetime(2018, 11, 14, 5, 6, 3), 'The Germs', 'Intro'], [62, 10, 'Cruz', 'Sylvie', datetime.datetime(2018, 11, 20, 18, 4, 37), 'Cledus T. Judd', \"Momma's Boy\"], [760, 16, 'George', 'Rylan', datetime.datetime(2018, 11, 8, 21, 45, 21), 'Hank Locklin', 'Danny Boy'], [1024, 16, 'George', 'Rylan', datetime.datetime(2018, 11, 11, 18, 53, 36), 'Cascada', 'Kids In America'], [684, 16, 'George', 'Rylan', datetime.datetime(2018, 11, 14, 6, 38), 'Blackfield', 'Thank You'], [776, 16, 'George', 'Rylan', datetime.datetime(2018, 11, 14, 6, 38), 'Jimmy Page / Robert Plant', 'Thank You'], [267, 16, 'George', 'Rylan', datetime.datetime(2018, 11, 14, 8, 42, 48), 'Kid606', 'Good Times'], [283, 16, 'George', 'Rylan', datetime.datetime(2018, 11, 14, 8, 47, 17), 'Romeo Void', 'Never Say Never'], [1147, 16, 'George', 'Rylan', datetime.datetime(2018, 11, 14, 9, 2, 39), 'Junkie XL', 'Today'], [315, 16, 'George', 'Rylan', datetime.datetime(2018, 11, 14, 9, 11, 7), 'The Format', 'Inches And Falling (I Love_ Love) (Live)'], [853, 16, 'George', 'Rylan', datetime.datetime(2018, 11, 15, 11, 4, 44), 'Boney M.', 'Give It Up'], [657, 16, 'George', 'Rylan', datetime.datetime(2018, 11, 15, 11, 37, 33), 'Redman / Saukrates / Icadon', 'Suicide'], [851, 16, 'George', 'Rylan', datetime.datetime(2018, 11, 15, 11, 37, 33), 'Cora E.', 'Suicide'], [665, 16, 'George', 'Rylan', datetime.datetime(2018, 11, 15, 11, 37, 33), 'Aceyalone', 'Suicide'], [288, 16, 'George', 'Rylan', datetime.datetime(2018, 11, 23, 4, 1, 13), 'Artist', 'Tonight'], [458, 16, 'George', 'Rylan', datetime.datetime(2018, 11, 23, 4, 1, 13), 'Low', 'Tonight'], [543, 16, 'George', 'Rylan', datetime.datetime(2018, 11, 29, 15, 9, 44), 'Radney Foster', 'Again'], [135, 16, 'George', 'Rylan', datetime.datetime(2018, 11, 29, 16, 5, 40), 'Muse', \"Can't Take My Eyes Off You\"], [297, 16, 'George', 'Rylan', datetime.datetime(2018, 11, 29, 16, 50, 16), 'Max Melvin', 'Someday'], [690, 16, 'George', 'Rylan', datetime.datetime(2018, 11, 29, 16, 50, 16), 'Whiteroom feat. Amy Cooper', 'Someday'], [595, 16, 'George', 'Rylan', datetime.datetime(2018, 11, 29, 16, 50, 16), 'Celtic Woman', 'Someday'], [117, 16, 'George', 'Rylan', datetime.datetime(2018, 11, 29, 16, 58, 11), 'Brand New Disaster', \"At Least It's Raining\"], [837, 16, 'George', 'Rylan', datetime.datetime(2018, 11, 29, 17, 33, 22), 'Blood_ Sweat & Tears', 'Overture'], [33, 16, 'George', 'Rylan', datetime.datetime(2018, 11, 29, 17, 56, 29), 'Fukkk Offf', 'Love My Shake'], [182, 16, 'George', 'Rylan', datetime.datetime(2018, 11, 29, 18, 37, 25), 'The Charlie Daniels Band', \"It's My Life\"], [919, 16, 'George', 'Rylan', datetime.datetime(2018, 11, 29, 19, 14, 56), 'Taxiride', 'Stronger'], [810, 16, 'George', 'Rylan', datetime.datetime(2018, 11, 30, 15, 32), 'James Taylor', 'Everyday'], [870, 16, 'George', 'Rylan', datetime.datetime(2018, 11, 30, 15, 32), 'Rikk Agnew', 'Everyday'], [1141, 16, 'George', 'Rylan', datetime.datetime(2018, 11, 30, 15, 53, 37), 'Fever Ray', 'When I Grow Up'], [1137, 16, 'George', 'Rylan', datetime.datetime(2018, 11, 30, 15, 53, 37), 'Fever Ray', 'When I Grow Up'], [335, 16, 'George', 'Rylan', datetime.datetime(2018, 11, 30, 16, 51, 42), 'Dwight Yoakam', \"You're The One\"], [205, 16, 'George', 'Rylan', datetime.datetime(2018, 11, 30, 17, 53, 44), 'Prince Po', 'Hello'], [189, 16, 'George', 'Rylan', datetime.datetime(2018, 11, 30, 18, 51, 24), 'The Misfits', 'The Haunting'], [714, 25, 'Graves', 'Jayden', datetime.datetime(2018, 11, 4, 6, 18, 31), 'Tweet', 'Always Will (LP Version)'], [629, 25, 'Graves', 'Jayden', datetime.datetime(2018, 11, 4, 6, 33, 51), 'Brian Culbertson', 'Back In The Day'], [32, 25, 'Graves', 'Jayden', datetime.datetime(2018, 11, 4, 6, 51, 12), 'Silverchair', 'The Door'], [444, 25, 'Graves', 'Jayden', datetime.datetime(2018, 11, 4, 7, 22, 23), 'Culture Kultür', 'The Only One'], [209, 25, 'Graves', 'Jayden', datetime.datetime(2018, 11, 4, 7, 31, 31), 'Whitesnake', 'Fool For Your Loving'], [478, 25, 'Graves', 'Jayden', datetime.datetime(2018, 11, 4, 7, 45, 24), 'Frozen Plasma', 'Home'], [424, 25, 'Graves', 'Jayden', datetime.datetime(2018, 11, 4, 7, 45, 24), 'Working For A Nuclear Free City', 'Home'], [486, 25, 'Graves', 'Jayden', datetime.datetime(2018, 11, 4, 7, 45, 24), 'Gemma Hayes', 'Home'], [268, 25, 'Graves', 'Jayden', datetime.datetime(2018, 11, 4, 7, 45, 24), 'Eli Young Band', 'Home'], [681, 25, 'Graves', 'Jayden', datetime.datetime(2018, 11, 5, 17, 54, 12), 'Emma Pollock', 'Adrenaline'], [607, 25, 'Graves', 'Jayden', datetime.datetime(2018, 11, 5, 17, 54, 12), '12 Stones', 'Adrenaline'], [500, 25, 'Graves', 'Jayden', datetime.datetime(2018, 11, 5, 18, 1, 27), 'The Postmarks', 'Let Go'], [57, 25, 'Graves', 'Jayden', datetime.datetime(2018, 11, 9, 22, 32, 57), 'Evergrey', 'Visions'], [84, 25, 'Graves', 'Jayden', datetime.datetime(2018, 11, 9, 23, 20, 10), 'Dwight Yoakam', \"You're The One\"], [238, 25, 'Graves', 'Jayden', datetime.datetime(2018, 11, 13, 8, 16, 36), 'Dwight Yoakam', \"You're The One\"], [591, 25, 'Graves', 'Jayden', datetime.datetime(2018, 11, 13, 8, 22, 24), 'Allison Moorer', 'Work To Do'], [847, 25, 'Graves', 'Jayden', datetime.datetime(2018, 11, 13, 8, 30, 1), 'Dash Berlin', 'Till The Sky Falls Down'], [987, 25, 'Graves', 'Jayden', datetime.datetime(2018, 11, 13, 8, 49, 43), 'The Juliana Theory', 'This Is Your Life'], [121, 25, 'Graves', 'Jayden', datetime.datetime(2018, 11, 13, 9, 19, 15), 'Erin Bode', 'Over And Over'], [516, 25, 'Graves', 'Jayden', datetime.datetime(2018, 11, 13, 9, 29, 8), 'UNKLE / Ian Brown', 'Chemistry'], [46, 25, 'Graves', 'Jayden', datetime.datetime(2018, 11, 14, 15, 14, 54), 'Starting Rock Feat. Diva Avari', \"Don't Go\"], [1129, 25, 'Graves', 'Jayden', datetime.datetime(2018, 11, 19, 22, 3, 25), 'Alice Smith', 'Dream'], [51, 25, 'Graves', 'Jayden', datetime.datetime(2018, 11, 19, 22, 53, 44), 'Rivera Rotation', 'Float On'], [1093, 25, 'Graves', 'Jayden', datetime.datetime(2018, 11, 19, 23, 16, 44), 'KJ Sawka', 'Get It On'], [177, 25, 'Graves', 'Jayden', datetime.datetime(2018, 11, 20, 0, 15, 35), 'Guerilla Black featuring Nate Dogg', 'Girlfriend'], [1033, 25, 'Graves', 'Jayden', datetime.datetime(2018, 11, 20, 0, 35, 56), 'The Black Keys', 'Strange Times'], [58, 25, 'Graves', 'Jayden', datetime.datetime(2018, 11, 20, 1, 24, 48), 'B.o.B', \"Nothin' On You [feat. Bruno Mars] (Album Version)\"], [273, 25, 'Graves', 'Jayden', datetime.datetime(2018, 11, 20, 2, 23, 15), 'Culture Kultür', 'Coma'], [528, 25, 'Graves', 'Jayden', datetime.datetime(2018, 11, 20, 2, 23, 15), 'Sheep on Drugs', 'Coma'], [749, 29, 'Lynch', 'Jacqueline', datetime.datetime(2018, 11, 8, 14, 58, 28), 'Muse', 'Supermassive Black Hole (Album Version)'], [835, 29, 'Lynch', 'Jacqueline', datetime.datetime(2018, 11, 8, 15, 1, 57), 'The Smiths', 'The Boy With The Thorn In His Side'], [977, 29, 'Lynch', 'Jacqueline', datetime.datetime(2018, 11, 13, 13, 29, 41), 'matchbox twenty', 'Unwell (Album Version)'], [819, 29, 'Lynch', 'Jacqueline', datetime.datetime(2018, 11, 13, 13, 56, 21), 'Mylène Farmer', 'Prologue'], [758, 29, 'Lynch', 'Jacqueline', datetime.datetime(2018, 11, 13, 14, 24, 57), 'Rammstein', 'Engel'], [558, 29, 'Lynch', 'Jacqueline', datetime.datetime(2018, 11, 13, 15, 17, 19), 'The Panic Channel', 'Awake'], [106, 29, 'Lynch', 'Jacqueline', datetime.datetime(2018, 11, 13, 15, 17, 19), 'Godsmack', 'Awake'], [391, 29, 'Lynch', 'Jacqueline', datetime.datetime(2018, 11, 13, 15, 17, 19), 'Finch', 'Awake'], [490, 29, 'Lynch', 'Jacqueline', datetime.datetime(2018, 11, 13, 15, 51, 19), '55 Escape', 'Wake Up'], [975, 29, 'Lynch', 'Jacqueline', datetime.datetime(2018, 11, 13, 15, 51, 19), 'Clara Hill', 'Wake Up'], [858, 11, 'Porter', 'Christian', datetime.datetime(2018, 11, 24, 23, 46, 14), 'Realistic Crew', 'Inevitable'], [282, 14, 'Harris', 'Theodore', datetime.datetime(2018, 11, 25, 14, 13, 48), 'Dala', 'Alive'], [792, 14, 'Harris', 'Theodore', datetime.datetime(2018, 11, 28, 16, 51, 2), 'Brendan Benson', \"How 'Bout You\"], [263, 32, 'Burns', 'Lily', datetime.datetime(2018, 11, 6, 16, 17, 24), 'Obie Trice / 50 Cent / Eminem', 'Love Me'], [1005, 32, 'Burns', 'Lily', datetime.datetime(2018, 11, 7, 22, 32, 44), 'Dead To Me', \"Don't Lie\"], [894, 32, 'Burns', 'Lily', datetime.datetime(2018, 11, 11, 4, 36, 13), 'Goldfrapp Featuring The Teenagers', 'Beautiful'], [833, 32, 'Burns', 'Lily', datetime.datetime(2018, 11, 11, 4, 36, 13), 'Paul Glazby', 'Beautiful'], [946, 32, 'Burns', 'Lily', datetime.datetime(2018, 11, 15, 16, 4, 40), 'Natasha Bedingfield', 'These Words'], [259, 32, 'Burns', 'Lily', datetime.datetime(2018, 11, 28, 20, 38, 7), 'VOTA', 'Give It To Me'], [1123, 34, 'Ayala', 'Evelin', datetime.datetime(2018, 11, 6, 14, 59, 25), 'Taxiride', 'Stronger'], [1056, 53, 'Williams', 'Celeste', datetime.datetime(2018, 11, 3, 1, 8, 36), 'Butch Walker', 'You Belong With Me'], [618, 53, 'Williams', 'Celeste', datetime.datetime(2018, 11, 3, 1, 12, 26), 'Amy Winehouse', 'Valerie'], [156, 53, 'Williams', 'Celeste', datetime.datetime(2018, 11, 23, 15, 29, 23), 'Kid Cudi / Kanye West / Common', 'Up Up & Away'], [1097, 58, 'Benson', 'Emily', datetime.datetime(2018, 11, 14, 8, 59, 20), 'Julia Fordham', 'Magic'], [855, 58, 'Benson', 'Emily', datetime.datetime(2018, 11, 14, 8, 59, 20), 'Meaghan Martin', 'Magic'], [1109, 58, 'Benson', 'Emily', datetime.datetime(2018, 11, 14, 8, 59, 20), 'Ben Kweller', 'Magic'], [1110, 58, 'Benson', 'Emily', datetime.datetime(2018, 11, 14, 8, 59, 20), 'Black Eyed Peas / Les Nubians / Mos Def', 'Magic'], [406, 58, 'Benson', 'Emily', datetime.datetime(2018, 11, 14, 9, 3, 1), 'SOiL', 'Suffering'], [275, 58, 'Benson', 'Emily', datetime.datetime(2018, 11, 14, 9, 3, 1), 'Tiger Lillies', 'Suffering'], [362, 58, 'Benson', 'Emily', datetime.datetime(2018, 11, 14, 9, 10, 49), 'Dwight Yoakam', \"You're The One\"], [797, 58, 'Benson', 'Emily', datetime.datetime(2018, 11, 21, 15, 30), 'Ghostland Observatory', 'Stranger Lover'], [778, 58, 'Benson', 'Emily', datetime.datetime(2018, 11, 21, 15, 33, 44), 'Papa Wemba', 'Zero'], [674, 58, 'Benson', 'Emily', datetime.datetime(2018, 11, 23, 16, 13, 8), 'Boys Like Girls', 'Two Is Better Than One'], [176, 58, 'Benson', 'Emily', datetime.datetime(2018, 11, 23, 17, 29, 9), 'India.Arie', 'Beautiful Flower'], [520, 58, 'Benson', 'Emily', datetime.datetime(2018, 11, 28, 7, 11, 30), 'Plus One', 'You (w/o Organ Version)'], [955, 58, 'Benson', 'Emily', datetime.datetime(2018, 11, 28, 7, 15, 21), 'Counting Crows', 'Mr. Jones'], [100, 58, 'Benson', 'Emily', datetime.datetime(2018, 11, 28, 7, 41, 41), 'Russ Ballard', 'Voices'], [346, 58, 'Benson', 'Emily', datetime.datetime(2018, 11, 28, 7, 41, 41), 'James Newton Howard', 'Voices'], [193, 58, 'Benson', 'Emily', datetime.datetime(2018, 11, 28, 8, 9, 40), 'Kate Voegele', 'One Way Or Another'], [1075, 58, 'Benson', 'Emily', datetime.datetime(2018, 11, 28, 8, 18, 57), 'Luis Miguel', 'Suena (\"Some Day\" end title song \"The Hunchback of Notre Dame\")'], [507, 58, 'Benson', 'Emily', datetime.datetime(2018, 11, 28, 8, 23, 13), 'Efecto Mariposa', 'Por quererte'], [647, 58, 'Benson', 'Emily', datetime.datetime(2018, 11, 28, 8, 42, 6), \"John O'Callaghan\", 'Broken'], [761, 58, 'Benson', 'Emily', datetime.datetime(2018, 11, 28, 8, 42, 6), 'The Black Halos', 'Broken'], [812, 58, 'Benson', 'Emily', datetime.datetime(2018, 11, 28, 8, 42, 6), 'Corpus Delicti', 'Broken'], [939, 58, 'Benson', 'Emily', datetime.datetime(2018, 11, 28, 8, 42, 6), 'Ours', 'Broken'], [753, 58, 'Benson', 'Emily', datetime.datetime(2018, 11, 28, 8, 42, 6), 'Tift Merritt', 'Broken'], [390, 69, 'Simpson', 'Anabelle', datetime.datetime(2018, 11, 4, 16, 25, 54), 'Kid Cudi / Kanye West / Common', 'Up Up & Away'], [811, 69, 'Simpson', 'Anabelle', datetime.datetime(2018, 11, 5, 4, 47, 26), 'Alicia Keys', \"If I Ain't Got You\"], [201, 71, 'Wise', 'Ayleen', datetime.datetime(2018, 11, 2, 18, 36, 53), 'Radiohead', 'Pop Is Dead'], [932, 92, 'Smith', 'Ryann', datetime.datetime(2018, 11, 11, 9, 56, 28), 'Miguel Migs', 'The One'], [874, 92, 'Smith', 'Ryann', datetime.datetime(2018, 11, 11, 9, 56, 28), 'Saga', 'The One'], [1203, 92, 'Smith', 'Ryann', datetime.datetime(2018, 11, 26, 18, 25, 34), 'The Rolling Stones', 'Angie (1993 Digital Remaster)'], [1061, 92, 'Smith', 'Ryann', datetime.datetime(2018, 11, 26, 18, 30, 5), 'Europe', 'Hero'], [785, 92, 'Smith', 'Ryann', datetime.datetime(2018, 11, 26, 18, 34, 29), 'Polygon Window', 'Tha'], [236, 29, 'Lynch', 'Jacqueline', datetime.datetime(2018, 11, 13, 15, 51, 19), 'Thom Hell', 'Wake Up'], [307, 29, 'Lynch', 'Jacqueline', datetime.datetime(2018, 11, 13, 15, 51, 19), 'Chicane', 'Wake Up'], [864, 29, 'Lynch', 'Jacqueline', datetime.datetime(2018, 11, 13, 16, 24, 47), 'State Of Mind', 'Afterlife'], [129, 29, 'Lynch', 'Jacqueline', datetime.datetime(2018, 11, 13, 16, 55, 21), 'Dwight Yoakam', \"You're The One\"], [488, 29, 'Lynch', 'Jacqueline', datetime.datetime(2018, 11, 13, 17, 47, 5), 'The Human League', 'Human'], [634, 29, 'Lynch', 'Jacqueline', datetime.datetime(2018, 11, 13, 17, 47, 5), 'Aesthetic Perfection', 'Human'], [449, 29, 'Lynch', 'Jacqueline', datetime.datetime(2018, 11, 13, 19, 56, 56), 'Logistics', 'Spotlight'], [244, 29, 'Lynch', 'Jacqueline', datetime.datetime(2018, 11, 13, 20, 9, 53), 'Frozen Plasma', 'Home'], [446, 29, 'Lynch', 'Jacqueline', datetime.datetime(2018, 11, 13, 20, 9, 53), 'Working For A Nuclear Free City', 'Home'], [323, 29, 'Lynch', 'Jacqueline', datetime.datetime(2018, 11, 13, 20, 9, 53), 'Gemma Hayes', 'Home'], [513, 29, 'Lynch', 'Jacqueline', datetime.datetime(2018, 11, 13, 20, 9, 53), 'Eli Young Band', 'Home'], [1046, 29, 'Lynch', 'Jacqueline', datetime.datetime(2018, 11, 13, 20, 20, 44), 'Limi-T 21', 'Estoy Enamorado De Ella (Salsa)'], [36, 29, 'Lynch', 'Jacqueline', datetime.datetime(2018, 11, 13, 20, 24, 14), 'Kollaa Kestää', 'Musti Sotakoira (2007 Digital Remaster)'], [501, 29, 'Lynch', 'Jacqueline', datetime.datetime(2018, 11, 13, 21, 9, 31), 'Deluxe', 'Danke Schoen'], [935, 29, 'Lynch', 'Jacqueline', datetime.datetime(2018, 11, 14, 10, 1, 17), 'Somerville_ Jimmy', 'Alright'], [571, 29, 'Lynch', 'Jacqueline', datetime.datetime(2018, 11, 14, 10, 21, 5), 'Coburn feat. Princess Superstar & Solid State', 'Closer'], [509, 29, 'Lynch', 'Jacqueline', datetime.datetime(2018, 11, 14, 10, 21, 5), 'Misconduct', 'Closer'], [821, 29, 'Lynch', 'Jacqueline', datetime.datetime(2018, 11, 14, 10, 52, 54), 'Michael Stanley Band', \"Don't Stop The Music\"], [220, 29, 'Lynch', 'Jacqueline', datetime.datetime(2018, 11, 14, 11, 5, 54), 'Romeo Void', 'Never Say Never'], [103, 29, 'Lynch', 'Jacqueline', datetime.datetime(2018, 11, 14, 12, 18, 7), 'The Exciters', 'Tell Him'], [523, 29, 'Lynch', 'Jacqueline', datetime.datetime(2018, 11, 14, 12, 22, 47), 'Coburn feat. Princess Superstar & Solid State', 'Closer'], [531, 29, 'Lynch', 'Jacqueline', datetime.datetime(2018, 11, 14, 12, 22, 47), 'Misconduct', 'Closer'], [872, 29, 'Lynch', 'Jacqueline', datetime.datetime(2018, 11, 18, 13, 59, 46), 'Whole Wheat Bread', 'Untitled'], [609, 29, 'Lynch', 'Jacqueline', datetime.datetime(2018, 11, 18, 14, 15, 22), 'Skatterman & Snug Brim', 'Run'], [875, 29, 'Lynch', 'Jacqueline', datetime.datetime(2018, 11, 18, 16, 20, 34), 'J.J. Cale', 'Losers'], [737, 29, 'Lynch', 'Jacqueline', datetime.datetime(2018, 11, 18, 16, 32, 24), 'BigElf', 'Superstar'])\n"
     ]
    }
   ],
   "source": [
    "query_list_played_song = \"\"\"\n",
    "    SELECT  sp.songplay_id,\n",
    "        u.user_id,\n",
    "        u.last_name,\n",
    "        u.first_name,\n",
    "        sp.start_time,\n",
    "        a.name,\n",
    "        s.title\n",
    "    FROM songplays AS sp\n",
    "            JOIN users   AS u ON (u.user_id = sp.user_id)\n",
    "            JOIN songs   AS s ON (s.song_id = sp.song_id)\n",
    "            JOIN artists AS a ON (a.artist_id = sp.artist_id)\n",
    "            JOIN time    AS t ON (t.start_time = sp.start_time)\n",
    "    LIMIT 200;\n",
    "\"\"\"\n",
    "cursor.execute(query_most_played_song)\n",
    "result: tuple = cursor.fetchall()\n",
    "print(result)"
   ]
  },
  {
   "cell_type": "code",
   "execution_count": null,
   "metadata": {},
   "outputs": [],
   "source": [
    "query_count_song_by_day = \"\"\"\n",
    "    SELECT t.day, \n",
    "        t.month, \n",
    "        t.year,\n",
    "        count(*) AS count_song\n",
    "    FROM songplays AS sp, time AS t\n",
    "    WHERE sp.start_time = t.start_time\n",
    "    GROUP BY t.day, t.month, t.year\n",
    "    ORDER BY count_song DESC\n",
    "\"\"\"\n",
    "cursor.execute(query_count_song_by_day)\n",
    "result: tuple = cursor.fetchall()\n",
    "print(result)"
   ]
  },
  {
   "cell_type": "markdown",
   "metadata": {},
   "source": [
    "## STEP 5: Clean up your resources"
   ]
  },
  {
   "cell_type": "markdown",
   "metadata": {},
   "source": [
    "<b><font color='red'>DO NOT RUN THIS UNLESS YOU ARE SURE <br/> \n",
    "    We will be using these resources in the next exercises</span></b>"
   ]
  },
  {
   "cell_type": "code",
   "execution_count": 17,
   "metadata": {},
   "outputs": [
    {
     "data": {
      "text/html": [
       "<div>\n",
       "<style scoped>\n",
       "    .dataframe tbody tr th:only-of-type {\n",
       "        vertical-align: middle;\n",
       "    }\n",
       "\n",
       "    .dataframe tbody tr th {\n",
       "        vertical-align: top;\n",
       "    }\n",
       "\n",
       "    .dataframe thead th {\n",
       "        text-align: right;\n",
       "    }\n",
       "</style>\n",
       "<table border=\"1\" class=\"dataframe\">\n",
       "  <thead>\n",
       "    <tr style=\"text-align: right;\">\n",
       "      <th></th>\n",
       "      <th>Key</th>\n",
       "      <th>Value</th>\n",
       "    </tr>\n",
       "  </thead>\n",
       "  <tbody>\n",
       "    <tr>\n",
       "      <th>0</th>\n",
       "      <td>ClusterIdentifier</td>\n",
       "      <td>dwhcluster</td>\n",
       "    </tr>\n",
       "    <tr>\n",
       "      <th>1</th>\n",
       "      <td>NodeType</td>\n",
       "      <td>dc2.large</td>\n",
       "    </tr>\n",
       "    <tr>\n",
       "      <th>2</th>\n",
       "      <td>ClusterStatus</td>\n",
       "      <td>available</td>\n",
       "    </tr>\n",
       "    <tr>\n",
       "      <th>3</th>\n",
       "      <td>MasterUsername</td>\n",
       "      <td>dwhuser</td>\n",
       "    </tr>\n",
       "    <tr>\n",
       "      <th>4</th>\n",
       "      <td>DBName</td>\n",
       "      <td>dwh</td>\n",
       "    </tr>\n",
       "    <tr>\n",
       "      <th>5</th>\n",
       "      <td>Endpoint</td>\n",
       "      <td>{'Address': 'dwhcluster.cxmu9btas4jt.us-west-2.redshift.amazonaws.com', 'Port': 5439}</td>\n",
       "    </tr>\n",
       "    <tr>\n",
       "      <th>6</th>\n",
       "      <td>VpcId</td>\n",
       "      <td>vpc-6c790b14</td>\n",
       "    </tr>\n",
       "    <tr>\n",
       "      <th>7</th>\n",
       "      <td>NumberOfNodes</td>\n",
       "      <td>4</td>\n",
       "    </tr>\n",
       "  </tbody>\n",
       "</table>\n",
       "</div>"
      ],
      "text/plain": [
       "                 Key  \\\n",
       "0  ClusterIdentifier   \n",
       "1  NodeType            \n",
       "2  ClusterStatus       \n",
       "3  MasterUsername      \n",
       "4  DBName              \n",
       "5  Endpoint            \n",
       "6  VpcId               \n",
       "7  NumberOfNodes       \n",
       "\n",
       "                                                                                   Value  \n",
       "0  dwhcluster                                                                             \n",
       "1  dc2.large                                                                              \n",
       "2  available                                                                              \n",
       "3  dwhuser                                                                                \n",
       "4  dwh                                                                                    \n",
       "5  {'Address': 'dwhcluster.cxmu9btas4jt.us-west-2.redshift.amazonaws.com', 'Port': 5439}  \n",
       "6  vpc-6c790b14                                                                           \n",
       "7  4                                                                                      "
      ]
     },
     "execution_count": 17,
     "metadata": {},
     "output_type": "execute_result"
    }
   ],
   "source": [
    "myClusterProps = redshift.describe_clusters(ClusterIdentifier=DWH_CLUSTER_IDENTIFIER)['Clusters'][0]\n",
    "prettyRedshiftProps(myClusterProps)"
   ]
  },
  {
   "cell_type": "code",
   "execution_count": 29,
   "metadata": {},
   "outputs": [
    {
     "data": {
      "text/plain": [
       "{'Cluster': {'ClusterIdentifier': 'dwhcluster',\n",
       "  'NodeType': 'dc2.large',\n",
       "  'ClusterStatus': 'deleting',\n",
       "  'ClusterAvailabilityStatus': 'Modifying',\n",
       "  'MasterUsername': 'dwhuser',\n",
       "  'DBName': 'dwh',\n",
       "  'Endpoint': {'Address': 'dwhcluster.cxmu9btas4jt.us-west-2.redshift.amazonaws.com',\n",
       "   'Port': 5439},\n",
       "  'ClusterCreateTime': datetime.datetime(2023, 11, 8, 12, 31, 39, 284000, tzinfo=tzutc()),\n",
       "  'AutomatedSnapshotRetentionPeriod': 1,\n",
       "  'ManualSnapshotRetentionPeriod': -1,\n",
       "  'ClusterSecurityGroups': [],\n",
       "  'VpcSecurityGroups': [{'VpcSecurityGroupId': 'sg-6db52338',\n",
       "    'Status': 'active'}],\n",
       "  'ClusterParameterGroups': [{'ParameterGroupName': 'default.redshift-1.0',\n",
       "    'ParameterApplyStatus': 'in-sync'}],\n",
       "  'ClusterSubnetGroupName': 'default',\n",
       "  'VpcId': 'vpc-6c790b14',\n",
       "  'AvailabilityZone': 'us-west-2a',\n",
       "  'PreferredMaintenanceWindow': 'sat:13:30-sat:14:00',\n",
       "  'PendingModifiedValues': {},\n",
       "  'ClusterVersion': '1.0',\n",
       "  'AllowVersionUpgrade': True,\n",
       "  'NumberOfNodes': 4,\n",
       "  'PubliclyAccessible': True,\n",
       "  'Encrypted': False,\n",
       "  'Tags': [],\n",
       "  'EnhancedVpcRouting': False,\n",
       "  'IamRoles': [{'IamRoleArn': 'arn:aws:iam::697682206292:role/dwhRole',\n",
       "    'ApplyStatus': 'in-sync'}],\n",
       "  'MaintenanceTrackName': 'current',\n",
       "  'DeferredMaintenanceWindows': [],\n",
       "  'NextMaintenanceWindowStartTime': datetime.datetime(2023, 11, 11, 13, 30, tzinfo=tzutc()),\n",
       "  'TotalStorageCapacityInMegaBytes': 1600000,\n",
       "  'AquaConfiguration': {'AquaStatus': 'disabled',\n",
       "   'AquaConfigurationStatus': 'auto'},\n",
       "  'MultiAZ': 'Disabled'},\n",
       " 'ResponseMetadata': {'RequestId': 'ccc0e236-0efb-448a-9bfa-bc8030898859',\n",
       "  'HTTPStatusCode': 200,\n",
       "  'HTTPHeaders': {'x-amzn-requestid': 'ccc0e236-0efb-448a-9bfa-bc8030898859',\n",
       "   'content-type': 'text/xml',\n",
       "   'content-length': '2728',\n",
       "   'date': 'Wed, 08 Nov 2023 16:14:38 GMT'},\n",
       "  'RetryAttempts': 0}}"
      ]
     },
     "execution_count": 29,
     "metadata": {},
     "output_type": "execute_result"
    }
   ],
   "source": [
    "#### CAREFUL!!\n",
    "#-- Uncomment & run to delete the created resources\n",
    "redshift.delete_cluster( ClusterIdentifier=DWH_CLUSTER_IDENTIFIER,  SkipFinalClusterSnapshot=True)\n",
    "#### CAREFUL!!"
   ]
  },
  {
   "cell_type": "markdown",
   "metadata": {},
   "source": [
    "- run this block several times until the cluster really deleted"
   ]
  },
  {
   "cell_type": "code",
   "execution_count": 87,
   "metadata": {},
   "outputs": [
    {
     "data": {
      "text/plain": [
       "{'ResponseMetadata': {'HTTPHeaders': {'content-length': '200',\n",
       "   'content-type': 'text/xml',\n",
       "   'date': 'Sat, 16 Feb 2019 07:13:50 GMT',\n",
       "   'x-amzn-requestid': '694f8d91-31ba-11e9-9438-d3ce9c613ef8'},\n",
       "  'HTTPStatusCode': 200,\n",
       "  'RequestId': '694f8d91-31ba-11e9-9438-d3ce9c613ef8',\n",
       "  'RetryAttempts': 0}}"
      ]
     },
     "execution_count": 87,
     "metadata": {},
     "output_type": "execute_result"
    }
   ],
   "source": [
    "#### CAREFUL!!\n",
    "#-- Uncomment & run to delete the created resources\n",
    "iam.detach_role_policy(RoleName=DWH_IAM_ROLE_NAME, PolicyArn=\"arn:aws:iam::aws:policy/AmazonS3ReadOnlyAccess\")\n",
    "iam.delete_role(RoleName=DWH_IAM_ROLE_NAME)\n",
    "#### CAREFUL!!"
   ]
  }
 ],
 "metadata": {
  "kernelspec": {
   "display_name": "Python 3 (ipykernel)",
   "language": "python",
   "name": "python3"
  },
  "language_info": {
   "codemirror_mode": {
    "name": "ipython",
    "version": 3
   },
   "file_extension": ".py",
   "mimetype": "text/x-python",
   "name": "python",
   "nbconvert_exporter": "python",
   "pygments_lexer": "ipython3",
   "version": "3.11.5"
  },
  "toc": {
   "base_numbering": 1,
   "nav_menu": {},
   "number_sections": true,
   "sideBar": true,
   "skip_h1_title": false,
   "title_cell": "Table of Contents",
   "title_sidebar": "Contents",
   "toc_cell": false,
   "toc_position": {},
   "toc_section_display": true,
   "toc_window_display": false
  },
  "toc-autonumbering": false,
  "toc-showcode": false,
  "toc-showmarkdowntxt": false,
  "toc-showtags": false
 },
 "nbformat": 4,
 "nbformat_minor": 4
}
